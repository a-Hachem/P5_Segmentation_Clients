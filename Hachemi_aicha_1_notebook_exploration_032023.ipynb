{
 "cells": [
  {
   "cell_type": "code",
   "execution_count": 1,
   "id": "0abc2c08",
   "metadata": {},
   "outputs": [],
   "source": [
    "import numpy as np\n",
    "import pandas as pd\n",
    "import matplotlib.pyplot as plt\n",
    "import seaborn as sns\n",
    "import datetime as dt"
   ]
  },
  {
   "cell_type": "code",
   "execution_count": 3,
   "id": "e5e8bcd2",
   "metadata": {},
   "outputs": [],
   "source": [
    "df1 = pd.read_csv(\"olist_customers_dataset.csv\")\n",
    "df2 = pd.read_csv(\"olist_geolocation_dataset.csv\")\n",
    "df3 = pd.read_csv(\"olist_order_items_dataset.csv\")\n",
    "df4 = pd.read_csv(\"olist_order_payments_dataset.csv\")\n",
    "df5 = pd.read_csv(\"olist_order_reviews_dataset.csv\")\n",
    "df6 = pd.read_csv(\"olist_orders_dataset.csv\")\n",
    "df7 = pd.read_csv(\"olist_products_dataset.csv\")\n",
    "df8 = pd.read_csv(\"olist_sellers_dataset.csv\")\n",
    "df9 = pd.read_csv(\"product_category_name_translation.csv\")"
   ]
  },
  {
   "cell_type": "code",
   "execution_count": 4,
   "id": "d0d73218",
   "metadata": {},
   "outputs": [
    {
     "name": "stdout",
     "output_type": "stream",
     "text": [
      "Dimensions des datasets :\n",
      "df1 : (99441, 5)\n",
      "df2 (1000163, 5)\n",
      "df3 : (112650, 7)\n",
      "df4 : (103886, 5)\n",
      "df5 : (99224, 7)\n",
      "df6 : (99441, 8)\n",
      "df7 : (32951, 9)\n",
      "df8 : (3095, 4)\n",
      "df9 : (71, 2) \n"
     ]
    }
   ],
   "source": [
    "print(\"Dimensions des datasets :\")\n",
    "print(\"df1 : {}\\ndf2 {}\\ndf3 : {}\\ndf4 : {}\\ndf5 : {}\\ndf6 : {}\\ndf7 : {}\\ndf8 : {}\\ndf9 : {} \".format(df1.shape,\n",
    "         df2.shape, df3.shape, df4.shape, df5.shape, df6.shape, df7.shape, df8.shape, df9.shape))"
   ]
  },
  {
   "cell_type": "code",
   "execution_count": 8,
   "id": "1fce15e8",
   "metadata": {
    "scrolled": false
   },
   "outputs": [
    {
     "data": {
      "text/html": [
       "<div>\n",
       "<style scoped>\n",
       "    .dataframe tbody tr th:only-of-type {\n",
       "        vertical-align: middle;\n",
       "    }\n",
       "\n",
       "    .dataframe tbody tr th {\n",
       "        vertical-align: top;\n",
       "    }\n",
       "\n",
       "    .dataframe thead th {\n",
       "        text-align: right;\n",
       "    }\n",
       "</style>\n",
       "<table border=\"1\" class=\"dataframe\">\n",
       "  <thead>\n",
       "    <tr style=\"text-align: right;\">\n",
       "      <th></th>\n",
       "      <th>customer_id</th>\n",
       "      <th>customer_unique_id</th>\n",
       "      <th>customer_zip_code_prefix</th>\n",
       "      <th>customer_city</th>\n",
       "      <th>customer_state</th>\n",
       "    </tr>\n",
       "  </thead>\n",
       "  <tbody>\n",
       "    <tr>\n",
       "      <th>0</th>\n",
       "      <td>06b8999e2fba1a1fbc88172c00ba8bc7</td>\n",
       "      <td>861eff4711a542e4b93843c6dd7febb0</td>\n",
       "      <td>14409</td>\n",
       "      <td>franca</td>\n",
       "      <td>SP</td>\n",
       "    </tr>\n",
       "    <tr>\n",
       "      <th>1</th>\n",
       "      <td>18955e83d337fd6b2def6b18a428ac77</td>\n",
       "      <td>290c77bc529b7ac935b93aa66c333dc3</td>\n",
       "      <td>9790</td>\n",
       "      <td>sao bernardo do campo</td>\n",
       "      <td>SP</td>\n",
       "    </tr>\n",
       "    <tr>\n",
       "      <th>2</th>\n",
       "      <td>4e7b3e00288586ebd08712fdd0374a03</td>\n",
       "      <td>060e732b5b29e8181a18229c7b0b2b5e</td>\n",
       "      <td>1151</td>\n",
       "      <td>sao paulo</td>\n",
       "      <td>SP</td>\n",
       "    </tr>\n",
       "    <tr>\n",
       "      <th>3</th>\n",
       "      <td>b2b6027bc5c5109e529d4dc6358b12c3</td>\n",
       "      <td>259dac757896d24d7702b9acbbff3f3c</td>\n",
       "      <td>8775</td>\n",
       "      <td>mogi das cruzes</td>\n",
       "      <td>SP</td>\n",
       "    </tr>\n",
       "    <tr>\n",
       "      <th>4</th>\n",
       "      <td>4f2d8ab171c80ec8364f7c12e35b23ad</td>\n",
       "      <td>345ecd01c38d18a9036ed96c73b8d066</td>\n",
       "      <td>13056</td>\n",
       "      <td>campinas</td>\n",
       "      <td>SP</td>\n",
       "    </tr>\n",
       "  </tbody>\n",
       "</table>\n",
       "</div>"
      ],
      "text/plain": [
       "                        customer_id                customer_unique_id  \\\n",
       "0  06b8999e2fba1a1fbc88172c00ba8bc7  861eff4711a542e4b93843c6dd7febb0   \n",
       "1  18955e83d337fd6b2def6b18a428ac77  290c77bc529b7ac935b93aa66c333dc3   \n",
       "2  4e7b3e00288586ebd08712fdd0374a03  060e732b5b29e8181a18229c7b0b2b5e   \n",
       "3  b2b6027bc5c5109e529d4dc6358b12c3  259dac757896d24d7702b9acbbff3f3c   \n",
       "4  4f2d8ab171c80ec8364f7c12e35b23ad  345ecd01c38d18a9036ed96c73b8d066   \n",
       "\n",
       "   customer_zip_code_prefix          customer_city customer_state  \n",
       "0                     14409                 franca             SP  \n",
       "1                      9790  sao bernardo do campo             SP  \n",
       "2                      1151              sao paulo             SP  \n",
       "3                      8775        mogi das cruzes             SP  \n",
       "4                     13056               campinas             SP  "
      ]
     },
     "execution_count": 8,
     "metadata": {},
     "output_type": "execute_result"
    }
   ],
   "source": [
    "df1.head()"
   ]
  },
  {
   "cell_type": "code",
   "execution_count": 9,
   "id": "cce7fef2",
   "metadata": {},
   "outputs": [
    {
     "data": {
      "text/plain": [
       "96096"
      ]
     },
     "execution_count": 9,
     "metadata": {},
     "output_type": "execute_result"
    }
   ],
   "source": [
    "df1['customer_unique_id'].nunique()"
   ]
  },
  {
   "cell_type": "code",
   "execution_count": 10,
   "id": "f4fa42fa",
   "metadata": {},
   "outputs": [
    {
     "name": "stdout",
     "output_type": "stream",
     "text": [
      "['SP' 'SC' 'MG' 'PR' 'RJ' 'RS' 'PA' 'GO' 'ES' 'BA' 'MA' 'MS' 'CE' 'DF'\n",
      " 'RN' 'PE' 'MT' 'AM' 'AP' 'AL' 'RO' 'PB' 'TO' 'PI' 'AC' 'SE' 'RR']\n"
     ]
    }
   ],
   "source": [
    "print(df1['customer_state'].unique())"
   ]
  },
  {
   "cell_type": "code",
   "execution_count": 11,
   "id": "061a9e9f",
   "metadata": {},
   "outputs": [
    {
     "name": "stdout",
     "output_type": "stream",
     "text": [
      "27\n"
     ]
    }
   ],
   "source": [
    "print(df2['geolocation_state'].nunique())"
   ]
  },
  {
   "cell_type": "code",
   "execution_count": 12,
   "id": "147da9bb",
   "metadata": {},
   "outputs": [
    {
     "data": {
      "text/plain": [
       "14994"
      ]
     },
     "execution_count": 12,
     "metadata": {},
     "output_type": "execute_result"
    }
   ],
   "source": [
    "df1['customer_zip_code_prefix'].nunique()"
   ]
  },
  {
   "cell_type": "code",
   "execution_count": 13,
   "id": "9d67632f",
   "metadata": {},
   "outputs": [
    {
     "name": "stdout",
     "output_type": "stream",
     "text": [
      "Nombre de valeurs manquantes dans 'customer_zip_code_prefix': 0\n"
     ]
    }
   ],
   "source": [
    "# Vérifier les valeurs manquantes dans 'customer_zip_code_prefix'\n",
    "missing_values = df1['customer_zip_code_prefix'].isnull().sum()\n",
    "\n",
    "# Afficher le nombre de valeurs manquantes\n",
    "print(\"Nombre de valeurs manquantes dans 'customer_zip_code_prefix':\", missing_values)\n"
   ]
  },
  {
   "cell_type": "code",
   "execution_count": 14,
   "id": "72561a8a",
   "metadata": {},
   "outputs": [
    {
     "name": "stdout",
     "output_type": "stream",
     "text": [
      "Nombre de valeurs manquantes dans 'customer_state': 0\n"
     ]
    }
   ],
   "source": [
    "# Vérifier les valeurs manquantes dans 'customer_state'\n",
    "missing_values = df1['customer_state'].isnull().sum()\n",
    "\n",
    "# Afficher le nombre de valeurs manquantes\n",
    "print(\"Nombre de valeurs manquantes dans 'customer_state':\", missing_values)\n"
   ]
  },
  {
   "cell_type": "code",
   "execution_count": 15,
   "id": "7e3e4349",
   "metadata": {},
   "outputs": [
    {
     "data": {
      "text/html": [
       "<div>\n",
       "<style scoped>\n",
       "    .dataframe tbody tr th:only-of-type {\n",
       "        vertical-align: middle;\n",
       "    }\n",
       "\n",
       "    .dataframe tbody tr th {\n",
       "        vertical-align: top;\n",
       "    }\n",
       "\n",
       "    .dataframe thead th {\n",
       "        text-align: right;\n",
       "    }\n",
       "</style>\n",
       "<table border=\"1\" class=\"dataframe\">\n",
       "  <thead>\n",
       "    <tr style=\"text-align: right;\">\n",
       "      <th></th>\n",
       "      <th>geolocation_zip_code_prefix</th>\n",
       "      <th>geolocation_lat</th>\n",
       "      <th>geolocation_lng</th>\n",
       "      <th>geolocation_city</th>\n",
       "      <th>geolocation_state</th>\n",
       "    </tr>\n",
       "  </thead>\n",
       "  <tbody>\n",
       "    <tr>\n",
       "      <th>0</th>\n",
       "      <td>1037</td>\n",
       "      <td>-23.545621</td>\n",
       "      <td>-46.639292</td>\n",
       "      <td>sao paulo</td>\n",
       "      <td>SP</td>\n",
       "    </tr>\n",
       "  </tbody>\n",
       "</table>\n",
       "</div>"
      ],
      "text/plain": [
       "   geolocation_zip_code_prefix  geolocation_lat  geolocation_lng  \\\n",
       "0                         1037       -23.545621       -46.639292   \n",
       "\n",
       "  geolocation_city geolocation_state  \n",
       "0        sao paulo                SP  "
      ]
     },
     "execution_count": 15,
     "metadata": {},
     "output_type": "execute_result"
    }
   ],
   "source": [
    "df2.head(1)"
   ]
  },
  {
   "cell_type": "code",
   "execution_count": 16,
   "id": "22219065",
   "metadata": {},
   "outputs": [
    {
     "data": {
      "text/plain": [
       "19015"
      ]
     },
     "execution_count": 16,
     "metadata": {},
     "output_type": "execute_result"
    }
   ],
   "source": [
    "df2['geolocation_zip_code_prefix'].nunique()"
   ]
  },
  {
   "cell_type": "code",
   "execution_count": 17,
   "id": "202470df",
   "metadata": {},
   "outputs": [
    {
     "name": "stdout",
     "output_type": "stream",
     "text": [
      "['SP' 'RN' 'AC' 'RJ' 'ES' 'MG' 'BA' 'SE' 'PE' 'AL' 'PB' 'CE' 'PI' 'MA'\n",
      " 'PA' 'AP' 'AM' 'RR' 'DF' 'GO' 'RO' 'TO' 'MT' 'MS' 'RS' 'PR' 'SC']\n"
     ]
    }
   ],
   "source": [
    "print(df2['geolocation_state'].unique())"
   ]
  },
  {
   "cell_type": "code",
   "execution_count": 18,
   "id": "1bb8253a",
   "metadata": {},
   "outputs": [
    {
     "name": "stdout",
     "output_type": "stream",
     "text": [
      "27\n"
     ]
    }
   ],
   "source": [
    "print(df2['geolocation_state'].nunique())"
   ]
  },
  {
   "cell_type": "code",
   "execution_count": 19,
   "id": "4831de79",
   "metadata": {},
   "outputs": [
    {
     "name": "stdout",
     "output_type": "stream",
     "text": [
      "['sao paulo' 'são paulo' 'sao bernardo do campo' ... 'ciríaco' 'estação'\n",
      " 'vila lângaro']\n"
     ]
    }
   ],
   "source": [
    "print(df2['geolocation_city'].unique())"
   ]
  },
  {
   "cell_type": "code",
   "execution_count": 20,
   "id": "bd1c695f",
   "metadata": {},
   "outputs": [
    {
     "name": "stdout",
     "output_type": "stream",
     "text": [
      "8011\n"
     ]
    }
   ],
   "source": [
    "print(df2['geolocation_city'].nunique())"
   ]
  },
  {
   "cell_type": "markdown",
   "id": "e2247348",
   "metadata": {},
   "source": [
    "Le dataset dfé ne nous apporte pas plus d'informations que celles que nous disposons déjà dans df1, nous n'allons donc pas inclure dans la jointure des fichiers. "
   ]
  },
  {
   "cell_type": "code",
   "execution_count": 21,
   "id": "d37c5237",
   "metadata": {},
   "outputs": [
    {
     "data": {
      "text/html": [
       "<div>\n",
       "<style scoped>\n",
       "    .dataframe tbody tr th:only-of-type {\n",
       "        vertical-align: middle;\n",
       "    }\n",
       "\n",
       "    .dataframe tbody tr th {\n",
       "        vertical-align: top;\n",
       "    }\n",
       "\n",
       "    .dataframe thead th {\n",
       "        text-align: right;\n",
       "    }\n",
       "</style>\n",
       "<table border=\"1\" class=\"dataframe\">\n",
       "  <thead>\n",
       "    <tr style=\"text-align: right;\">\n",
       "      <th></th>\n",
       "      <th>order_id</th>\n",
       "      <th>customer_id</th>\n",
       "      <th>order_status</th>\n",
       "      <th>order_purchase_timestamp</th>\n",
       "      <th>order_approved_at</th>\n",
       "      <th>order_delivered_carrier_date</th>\n",
       "      <th>order_delivered_customer_date</th>\n",
       "      <th>order_estimated_delivery_date</th>\n",
       "    </tr>\n",
       "  </thead>\n",
       "  <tbody>\n",
       "    <tr>\n",
       "      <th>0</th>\n",
       "      <td>e481f51cbdc54678b7cc49136f2d6af7</td>\n",
       "      <td>9ef432eb6251297304e76186b10a928d</td>\n",
       "      <td>delivered</td>\n",
       "      <td>2017-10-02 10:56:33</td>\n",
       "      <td>2017-10-02 11:07:15</td>\n",
       "      <td>2017-10-04 19:55:00</td>\n",
       "      <td>2017-10-10 21:25:13</td>\n",
       "      <td>2017-10-18 00:00:00</td>\n",
       "    </tr>\n",
       "    <tr>\n",
       "      <th>1</th>\n",
       "      <td>53cdb2fc8bc7dce0b6741e2150273451</td>\n",
       "      <td>b0830fb4747a6c6d20dea0b8c802d7ef</td>\n",
       "      <td>delivered</td>\n",
       "      <td>2018-07-24 20:41:37</td>\n",
       "      <td>2018-07-26 03:24:27</td>\n",
       "      <td>2018-07-26 14:31:00</td>\n",
       "      <td>2018-08-07 15:27:45</td>\n",
       "      <td>2018-08-13 00:00:00</td>\n",
       "    </tr>\n",
       "    <tr>\n",
       "      <th>2</th>\n",
       "      <td>47770eb9100c2d0c44946d9cf07ec65d</td>\n",
       "      <td>41ce2a54c0b03bf3443c3d931a367089</td>\n",
       "      <td>delivered</td>\n",
       "      <td>2018-08-08 08:38:49</td>\n",
       "      <td>2018-08-08 08:55:23</td>\n",
       "      <td>2018-08-08 13:50:00</td>\n",
       "      <td>2018-08-17 18:06:29</td>\n",
       "      <td>2018-09-04 00:00:00</td>\n",
       "    </tr>\n",
       "  </tbody>\n",
       "</table>\n",
       "</div>"
      ],
      "text/plain": [
       "                           order_id                       customer_id  \\\n",
       "0  e481f51cbdc54678b7cc49136f2d6af7  9ef432eb6251297304e76186b10a928d   \n",
       "1  53cdb2fc8bc7dce0b6741e2150273451  b0830fb4747a6c6d20dea0b8c802d7ef   \n",
       "2  47770eb9100c2d0c44946d9cf07ec65d  41ce2a54c0b03bf3443c3d931a367089   \n",
       "\n",
       "  order_status order_purchase_timestamp    order_approved_at  \\\n",
       "0    delivered      2017-10-02 10:56:33  2017-10-02 11:07:15   \n",
       "1    delivered      2018-07-24 20:41:37  2018-07-26 03:24:27   \n",
       "2    delivered      2018-08-08 08:38:49  2018-08-08 08:55:23   \n",
       "\n",
       "  order_delivered_carrier_date order_delivered_customer_date  \\\n",
       "0          2017-10-04 19:55:00           2017-10-10 21:25:13   \n",
       "1          2018-07-26 14:31:00           2018-08-07 15:27:45   \n",
       "2          2018-08-08 13:50:00           2018-08-17 18:06:29   \n",
       "\n",
       "  order_estimated_delivery_date  \n",
       "0           2017-10-18 00:00:00  \n",
       "1           2018-08-13 00:00:00  \n",
       "2           2018-09-04 00:00:00  "
      ]
     },
     "execution_count": 21,
     "metadata": {},
     "output_type": "execute_result"
    }
   ],
   "source": [
    "df6.head(3)"
   ]
  },
  {
   "cell_type": "code",
   "execution_count": 22,
   "id": "7b41bf61",
   "metadata": {},
   "outputs": [
    {
     "data": {
      "text/plain": [
       "(99441, 12)"
      ]
     },
     "execution_count": 22,
     "metadata": {},
     "output_type": "execute_result"
    }
   ],
   "source": [
    "df16=pd.merge(df1, df6, on='customer_id', how='outer')\n",
    "df16.shape"
   ]
  },
  {
   "cell_type": "code",
   "execution_count": 23,
   "id": "a727bae8",
   "metadata": {},
   "outputs": [
    {
     "data": {
      "text/html": [
       "<div>\n",
       "<style scoped>\n",
       "    .dataframe tbody tr th:only-of-type {\n",
       "        vertical-align: middle;\n",
       "    }\n",
       "\n",
       "    .dataframe tbody tr th {\n",
       "        vertical-align: top;\n",
       "    }\n",
       "\n",
       "    .dataframe thead th {\n",
       "        text-align: right;\n",
       "    }\n",
       "</style>\n",
       "<table border=\"1\" class=\"dataframe\">\n",
       "  <thead>\n",
       "    <tr style=\"text-align: right;\">\n",
       "      <th></th>\n",
       "      <th>customer_id</th>\n",
       "      <th>customer_unique_id</th>\n",
       "      <th>customer_zip_code_prefix</th>\n",
       "      <th>customer_city</th>\n",
       "      <th>customer_state</th>\n",
       "      <th>order_id</th>\n",
       "      <th>order_status</th>\n",
       "      <th>order_purchase_timestamp</th>\n",
       "      <th>order_approved_at</th>\n",
       "      <th>order_delivered_carrier_date</th>\n",
       "      <th>order_delivered_customer_date</th>\n",
       "      <th>order_estimated_delivery_date</th>\n",
       "    </tr>\n",
       "  </thead>\n",
       "  <tbody>\n",
       "    <tr>\n",
       "      <th>0</th>\n",
       "      <td>06b8999e2fba1a1fbc88172c00ba8bc7</td>\n",
       "      <td>861eff4711a542e4b93843c6dd7febb0</td>\n",
       "      <td>14409</td>\n",
       "      <td>franca</td>\n",
       "      <td>SP</td>\n",
       "      <td>00e7ee1b050b8499577073aeb2a297a1</td>\n",
       "      <td>delivered</td>\n",
       "      <td>2017-05-16 15:05:35</td>\n",
       "      <td>2017-05-16 15:22:12</td>\n",
       "      <td>2017-05-23 10:47:57</td>\n",
       "      <td>2017-05-25 10:35:35</td>\n",
       "      <td>2017-06-05 00:00:00</td>\n",
       "    </tr>\n",
       "    <tr>\n",
       "      <th>1</th>\n",
       "      <td>18955e83d337fd6b2def6b18a428ac77</td>\n",
       "      <td>290c77bc529b7ac935b93aa66c333dc3</td>\n",
       "      <td>9790</td>\n",
       "      <td>sao bernardo do campo</td>\n",
       "      <td>SP</td>\n",
       "      <td>29150127e6685892b6eab3eec79f59c7</td>\n",
       "      <td>delivered</td>\n",
       "      <td>2018-01-12 20:48:24</td>\n",
       "      <td>2018-01-12 20:58:32</td>\n",
       "      <td>2018-01-15 17:14:59</td>\n",
       "      <td>2018-01-29 12:41:19</td>\n",
       "      <td>2018-02-06 00:00:00</td>\n",
       "    </tr>\n",
       "    <tr>\n",
       "      <th>2</th>\n",
       "      <td>4e7b3e00288586ebd08712fdd0374a03</td>\n",
       "      <td>060e732b5b29e8181a18229c7b0b2b5e</td>\n",
       "      <td>1151</td>\n",
       "      <td>sao paulo</td>\n",
       "      <td>SP</td>\n",
       "      <td>b2059ed67ce144a36e2aa97d2c9e9ad2</td>\n",
       "      <td>delivered</td>\n",
       "      <td>2018-05-19 16:07:45</td>\n",
       "      <td>2018-05-20 16:19:10</td>\n",
       "      <td>2018-06-11 14:31:00</td>\n",
       "      <td>2018-06-14 17:58:51</td>\n",
       "      <td>2018-06-13 00:00:00</td>\n",
       "    </tr>\n",
       "  </tbody>\n",
       "</table>\n",
       "</div>"
      ],
      "text/plain": [
       "                        customer_id                customer_unique_id  \\\n",
       "0  06b8999e2fba1a1fbc88172c00ba8bc7  861eff4711a542e4b93843c6dd7febb0   \n",
       "1  18955e83d337fd6b2def6b18a428ac77  290c77bc529b7ac935b93aa66c333dc3   \n",
       "2  4e7b3e00288586ebd08712fdd0374a03  060e732b5b29e8181a18229c7b0b2b5e   \n",
       "\n",
       "   customer_zip_code_prefix          customer_city customer_state  \\\n",
       "0                     14409                 franca             SP   \n",
       "1                      9790  sao bernardo do campo             SP   \n",
       "2                      1151              sao paulo             SP   \n",
       "\n",
       "                           order_id order_status order_purchase_timestamp  \\\n",
       "0  00e7ee1b050b8499577073aeb2a297a1    delivered      2017-05-16 15:05:35   \n",
       "1  29150127e6685892b6eab3eec79f59c7    delivered      2018-01-12 20:48:24   \n",
       "2  b2059ed67ce144a36e2aa97d2c9e9ad2    delivered      2018-05-19 16:07:45   \n",
       "\n",
       "     order_approved_at order_delivered_carrier_date  \\\n",
       "0  2017-05-16 15:22:12          2017-05-23 10:47:57   \n",
       "1  2018-01-12 20:58:32          2018-01-15 17:14:59   \n",
       "2  2018-05-20 16:19:10          2018-06-11 14:31:00   \n",
       "\n",
       "  order_delivered_customer_date order_estimated_delivery_date  \n",
       "0           2017-05-25 10:35:35           2017-06-05 00:00:00  \n",
       "1           2018-01-29 12:41:19           2018-02-06 00:00:00  \n",
       "2           2018-06-14 17:58:51           2018-06-13 00:00:00  "
      ]
     },
     "execution_count": 23,
     "metadata": {},
     "output_type": "execute_result"
    }
   ],
   "source": [
    "df16.head(3)"
   ]
  },
  {
   "cell_type": "code",
   "execution_count": 24,
   "id": "ab059dde",
   "metadata": {},
   "outputs": [
    {
     "data": {
      "text/html": [
       "<div>\n",
       "<style scoped>\n",
       "    .dataframe tbody tr th:only-of-type {\n",
       "        vertical-align: middle;\n",
       "    }\n",
       "\n",
       "    .dataframe tbody tr th {\n",
       "        vertical-align: top;\n",
       "    }\n",
       "\n",
       "    .dataframe thead th {\n",
       "        text-align: right;\n",
       "    }\n",
       "</style>\n",
       "<table border=\"1\" class=\"dataframe\">\n",
       "  <thead>\n",
       "    <tr style=\"text-align: right;\">\n",
       "      <th></th>\n",
       "      <th>order_id</th>\n",
       "      <th>order_item_id</th>\n",
       "      <th>product_id</th>\n",
       "      <th>seller_id</th>\n",
       "      <th>shipping_limit_date</th>\n",
       "      <th>price</th>\n",
       "      <th>freight_value</th>\n",
       "    </tr>\n",
       "  </thead>\n",
       "  <tbody>\n",
       "    <tr>\n",
       "      <th>0</th>\n",
       "      <td>00010242fe8c5a6d1ba2dd792cb16214</td>\n",
       "      <td>1</td>\n",
       "      <td>4244733e06e7ecb4970a6e2683c13e61</td>\n",
       "      <td>48436dade18ac8b2bce089ec2a041202</td>\n",
       "      <td>2017-09-19 09:45:35</td>\n",
       "      <td>58.9</td>\n",
       "      <td>13.29</td>\n",
       "    </tr>\n",
       "    <tr>\n",
       "      <th>1</th>\n",
       "      <td>00018f77f2f0320c557190d7a144bdd3</td>\n",
       "      <td>1</td>\n",
       "      <td>e5f2d52b802189ee658865ca93d83a8f</td>\n",
       "      <td>dd7ddc04e1b6c2c614352b383efe2d36</td>\n",
       "      <td>2017-05-03 11:05:13</td>\n",
       "      <td>239.9</td>\n",
       "      <td>19.93</td>\n",
       "    </tr>\n",
       "  </tbody>\n",
       "</table>\n",
       "</div>"
      ],
      "text/plain": [
       "                           order_id  order_item_id  \\\n",
       "0  00010242fe8c5a6d1ba2dd792cb16214              1   \n",
       "1  00018f77f2f0320c557190d7a144bdd3              1   \n",
       "\n",
       "                         product_id                         seller_id  \\\n",
       "0  4244733e06e7ecb4970a6e2683c13e61  48436dade18ac8b2bce089ec2a041202   \n",
       "1  e5f2d52b802189ee658865ca93d83a8f  dd7ddc04e1b6c2c614352b383efe2d36   \n",
       "\n",
       "   shipping_limit_date  price  freight_value  \n",
       "0  2017-09-19 09:45:35   58.9          13.29  \n",
       "1  2017-05-03 11:05:13  239.9          19.93  "
      ]
     },
     "execution_count": 24,
     "metadata": {},
     "output_type": "execute_result"
    }
   ],
   "source": [
    "df3.head(2)"
   ]
  },
  {
   "cell_type": "code",
   "execution_count": 25,
   "id": "a396504f",
   "metadata": {},
   "outputs": [
    {
     "name": "stdout",
     "output_type": "stream",
     "text": [
      "[ 1  2  3  4  5  6  7  8  9 10 11 12 13 14 15 16 17 18 19 20 21]\n"
     ]
    }
   ],
   "source": [
    "print(df3['order_item_id'].unique())"
   ]
  },
  {
   "cell_type": "code",
   "execution_count": 26,
   "id": "68085d57",
   "metadata": {},
   "outputs": [
    {
     "data": {
      "text/html": [
       "<div>\n",
       "<style scoped>\n",
       "    .dataframe tbody tr th:only-of-type {\n",
       "        vertical-align: middle;\n",
       "    }\n",
       "\n",
       "    .dataframe tbody tr th {\n",
       "        vertical-align: top;\n",
       "    }\n",
       "\n",
       "    .dataframe thead th {\n",
       "        text-align: right;\n",
       "    }\n",
       "</style>\n",
       "<table border=\"1\" class=\"dataframe\">\n",
       "  <thead>\n",
       "    <tr style=\"text-align: right;\">\n",
       "      <th></th>\n",
       "      <th>order_id</th>\n",
       "      <th>payment_sequential</th>\n",
       "      <th>payment_type</th>\n",
       "      <th>payment_installments</th>\n",
       "      <th>payment_value</th>\n",
       "    </tr>\n",
       "  </thead>\n",
       "  <tbody>\n",
       "    <tr>\n",
       "      <th>0</th>\n",
       "      <td>b81ef226f3fe1789b1e8b2acac839d17</td>\n",
       "      <td>1</td>\n",
       "      <td>credit_card</td>\n",
       "      <td>8</td>\n",
       "      <td>99.33</td>\n",
       "    </tr>\n",
       "    <tr>\n",
       "      <th>1</th>\n",
       "      <td>a9810da82917af2d9aefd1278f1dcfa0</td>\n",
       "      <td>1</td>\n",
       "      <td>credit_card</td>\n",
       "      <td>1</td>\n",
       "      <td>24.39</td>\n",
       "    </tr>\n",
       "  </tbody>\n",
       "</table>\n",
       "</div>"
      ],
      "text/plain": [
       "                           order_id  payment_sequential payment_type  \\\n",
       "0  b81ef226f3fe1789b1e8b2acac839d17                   1  credit_card   \n",
       "1  a9810da82917af2d9aefd1278f1dcfa0                   1  credit_card   \n",
       "\n",
       "   payment_installments  payment_value  \n",
       "0                     8          99.33  \n",
       "1                     1          24.39  "
      ]
     },
     "execution_count": 26,
     "metadata": {},
     "output_type": "execute_result"
    }
   ],
   "source": [
    "df4.head(2)"
   ]
  },
  {
   "cell_type": "code",
   "execution_count": 27,
   "id": "55998980",
   "metadata": {},
   "outputs": [
    {
     "name": "stdout",
     "output_type": "stream",
     "text": [
      "[ 1  2  4  5  3  8  6  7 10 11 17 19 27 12  9 15 13 14 16 25 22 26 29 28\n",
      " 18 21 24 23 20]\n"
     ]
    }
   ],
   "source": [
    "print(df4['payment_sequential'].unique())"
   ]
  },
  {
   "cell_type": "code",
   "execution_count": 28,
   "id": "9663d130",
   "metadata": {},
   "outputs": [
    {
     "name": "stdout",
     "output_type": "stream",
     "text": [
      "[ 8  1  2  3  6  5  4 10  7 12  9 13 15 24 11 18 14 20 21 17 22  0 16 23]\n"
     ]
    }
   ],
   "source": [
    "print(df4['payment_installments'].unique())"
   ]
  },
  {
   "cell_type": "code",
   "execution_count": 29,
   "id": "796dad77",
   "metadata": {},
   "outputs": [
    {
     "data": {
      "text/plain": [
       "Index(['order_id', 'order_item_id', 'product_id', 'seller_id',\n",
       "       'shipping_limit_date', 'price', 'freight_value', 'payment_sequential',\n",
       "       'payment_type', 'payment_installments', 'payment_value'],\n",
       "      dtype='object')"
      ]
     },
     "execution_count": 29,
     "metadata": {},
     "output_type": "execute_result"
    }
   ],
   "source": [
    "df34=pd.merge(df3, df4, on='order_id', how='left')\n",
    "df34.columns"
   ]
  },
  {
   "cell_type": "code",
   "execution_count": 30,
   "id": "40db1b54",
   "metadata": {},
   "outputs": [
    {
     "data": {
      "text/plain": [
       "(117604, 11)"
      ]
     },
     "execution_count": 30,
     "metadata": {},
     "output_type": "execute_result"
    }
   ],
   "source": [
    "df34.shape"
   ]
  },
  {
   "cell_type": "code",
   "execution_count": 31,
   "id": "c967e33b",
   "metadata": {},
   "outputs": [
    {
     "data": {
      "text/html": [
       "<div>\n",
       "<style scoped>\n",
       "    .dataframe tbody tr th:only-of-type {\n",
       "        vertical-align: middle;\n",
       "    }\n",
       "\n",
       "    .dataframe tbody tr th {\n",
       "        vertical-align: top;\n",
       "    }\n",
       "\n",
       "    .dataframe thead th {\n",
       "        text-align: right;\n",
       "    }\n",
       "</style>\n",
       "<table border=\"1\" class=\"dataframe\">\n",
       "  <thead>\n",
       "    <tr style=\"text-align: right;\">\n",
       "      <th></th>\n",
       "      <th>review_id</th>\n",
       "      <th>order_id</th>\n",
       "      <th>review_score</th>\n",
       "      <th>review_comment_title</th>\n",
       "      <th>review_comment_message</th>\n",
       "      <th>review_creation_date</th>\n",
       "      <th>review_answer_timestamp</th>\n",
       "    </tr>\n",
       "  </thead>\n",
       "  <tbody>\n",
       "    <tr>\n",
       "      <th>0</th>\n",
       "      <td>7bc2406110b926393aa56f80a40eba40</td>\n",
       "      <td>73fc7af87114b39712e6da79b0a377eb</td>\n",
       "      <td>4</td>\n",
       "      <td>NaN</td>\n",
       "      <td>NaN</td>\n",
       "      <td>2018-01-18 00:00:00</td>\n",
       "      <td>2018-01-18 21:46:59</td>\n",
       "    </tr>\n",
       "    <tr>\n",
       "      <th>1</th>\n",
       "      <td>80e641a11e56f04c1ad469d5645fdfde</td>\n",
       "      <td>a548910a1c6147796b98fdf73dbeba33</td>\n",
       "      <td>5</td>\n",
       "      <td>NaN</td>\n",
       "      <td>NaN</td>\n",
       "      <td>2018-03-10 00:00:00</td>\n",
       "      <td>2018-03-11 03:05:13</td>\n",
       "    </tr>\n",
       "    <tr>\n",
       "      <th>2</th>\n",
       "      <td>228ce5500dc1d8e020d8d1322874b6f0</td>\n",
       "      <td>f9e4b658b201a9f2ecdecbb34bed034b</td>\n",
       "      <td>5</td>\n",
       "      <td>NaN</td>\n",
       "      <td>NaN</td>\n",
       "      <td>2018-02-17 00:00:00</td>\n",
       "      <td>2018-02-18 14:36:24</td>\n",
       "    </tr>\n",
       "  </tbody>\n",
       "</table>\n",
       "</div>"
      ],
      "text/plain": [
       "                          review_id                          order_id  \\\n",
       "0  7bc2406110b926393aa56f80a40eba40  73fc7af87114b39712e6da79b0a377eb   \n",
       "1  80e641a11e56f04c1ad469d5645fdfde  a548910a1c6147796b98fdf73dbeba33   \n",
       "2  228ce5500dc1d8e020d8d1322874b6f0  f9e4b658b201a9f2ecdecbb34bed034b   \n",
       "\n",
       "   review_score review_comment_title review_comment_message  \\\n",
       "0             4                  NaN                    NaN   \n",
       "1             5                  NaN                    NaN   \n",
       "2             5                  NaN                    NaN   \n",
       "\n",
       "  review_creation_date review_answer_timestamp  \n",
       "0  2018-01-18 00:00:00     2018-01-18 21:46:59  \n",
       "1  2018-03-10 00:00:00     2018-03-11 03:05:13  \n",
       "2  2018-02-17 00:00:00     2018-02-18 14:36:24  "
      ]
     },
     "execution_count": 31,
     "metadata": {},
     "output_type": "execute_result"
    }
   ],
   "source": [
    "df5.head(3)"
   ]
  },
  {
   "cell_type": "code",
   "execution_count": 32,
   "id": "cc78b771",
   "metadata": {},
   "outputs": [
    {
     "data": {
      "text/plain": [
       "(99224, 7)"
      ]
     },
     "execution_count": 32,
     "metadata": {},
     "output_type": "execute_result"
    }
   ],
   "source": [
    "df5.shape"
   ]
  },
  {
   "cell_type": "code",
   "execution_count": 33,
   "id": "3881b8e4",
   "metadata": {},
   "outputs": [
    {
     "data": {
      "text/plain": [
       "(117332, 17)"
      ]
     },
     "execution_count": 33,
     "metadata": {},
     "output_type": "execute_result"
    }
   ],
   "source": [
    "df345=pd.merge(df34, df5,  on='order_id', how='inner')\n",
    "df345.shape"
   ]
  },
  {
   "cell_type": "code",
   "execution_count": 34,
   "id": "12de701a",
   "metadata": {},
   "outputs": [
    {
     "data": {
      "text/html": [
       "<div>\n",
       "<style scoped>\n",
       "    .dataframe tbody tr th:only-of-type {\n",
       "        vertical-align: middle;\n",
       "    }\n",
       "\n",
       "    .dataframe tbody tr th {\n",
       "        vertical-align: top;\n",
       "    }\n",
       "\n",
       "    .dataframe thead th {\n",
       "        text-align: right;\n",
       "    }\n",
       "</style>\n",
       "<table border=\"1\" class=\"dataframe\">\n",
       "  <thead>\n",
       "    <tr style=\"text-align: right;\">\n",
       "      <th></th>\n",
       "      <th>product_id</th>\n",
       "      <th>product_category_name</th>\n",
       "      <th>product_name_lenght</th>\n",
       "      <th>product_description_lenght</th>\n",
       "      <th>product_photos_qty</th>\n",
       "      <th>product_weight_g</th>\n",
       "      <th>product_length_cm</th>\n",
       "      <th>product_height_cm</th>\n",
       "      <th>product_width_cm</th>\n",
       "    </tr>\n",
       "  </thead>\n",
       "  <tbody>\n",
       "    <tr>\n",
       "      <th>0</th>\n",
       "      <td>1e9e8ef04dbcff4541ed26657ea517e5</td>\n",
       "      <td>perfumaria</td>\n",
       "      <td>40.0</td>\n",
       "      <td>287.0</td>\n",
       "      <td>1.0</td>\n",
       "      <td>225.0</td>\n",
       "      <td>16.0</td>\n",
       "      <td>10.0</td>\n",
       "      <td>14.0</td>\n",
       "    </tr>\n",
       "    <tr>\n",
       "      <th>1</th>\n",
       "      <td>3aa071139cb16b67ca9e5dea641aaa2f</td>\n",
       "      <td>artes</td>\n",
       "      <td>44.0</td>\n",
       "      <td>276.0</td>\n",
       "      <td>1.0</td>\n",
       "      <td>1000.0</td>\n",
       "      <td>30.0</td>\n",
       "      <td>18.0</td>\n",
       "      <td>20.0</td>\n",
       "    </tr>\n",
       "    <tr>\n",
       "      <th>2</th>\n",
       "      <td>96bd76ec8810374ed1b65e291975717f</td>\n",
       "      <td>esporte_lazer</td>\n",
       "      <td>46.0</td>\n",
       "      <td>250.0</td>\n",
       "      <td>1.0</td>\n",
       "      <td>154.0</td>\n",
       "      <td>18.0</td>\n",
       "      <td>9.0</td>\n",
       "      <td>15.0</td>\n",
       "    </tr>\n",
       "  </tbody>\n",
       "</table>\n",
       "</div>"
      ],
      "text/plain": [
       "                         product_id product_category_name  \\\n",
       "0  1e9e8ef04dbcff4541ed26657ea517e5            perfumaria   \n",
       "1  3aa071139cb16b67ca9e5dea641aaa2f                 artes   \n",
       "2  96bd76ec8810374ed1b65e291975717f         esporte_lazer   \n",
       "\n",
       "   product_name_lenght  product_description_lenght  product_photos_qty  \\\n",
       "0                 40.0                       287.0                 1.0   \n",
       "1                 44.0                       276.0                 1.0   \n",
       "2                 46.0                       250.0                 1.0   \n",
       "\n",
       "   product_weight_g  product_length_cm  product_height_cm  product_width_cm  \n",
       "0             225.0               16.0               10.0              14.0  \n",
       "1            1000.0               30.0               18.0              20.0  \n",
       "2             154.0               18.0                9.0              15.0  "
      ]
     },
     "execution_count": 34,
     "metadata": {},
     "output_type": "execute_result"
    }
   ],
   "source": [
    "df7.head(3)"
   ]
  },
  {
   "cell_type": "code",
   "execution_count": 35,
   "id": "d17f6564",
   "metadata": {},
   "outputs": [
    {
     "data": {
      "text/plain": [
       "(32951, 9)"
      ]
     },
     "execution_count": 35,
     "metadata": {},
     "output_type": "execute_result"
    }
   ],
   "source": [
    "df7.shape"
   ]
  },
  {
   "cell_type": "code",
   "execution_count": 36,
   "id": "22d93022",
   "metadata": {},
   "outputs": [],
   "source": [
    "df3457=pd.merge(df345, df7, on='product_id', how='inner')\n",
    "#df3457.head(1)"
   ]
  },
  {
   "cell_type": "code",
   "execution_count": 37,
   "id": "fb0985fc",
   "metadata": {},
   "outputs": [
    {
     "data": {
      "text/plain": [
       "(117332, 25)"
      ]
     },
     "execution_count": 37,
     "metadata": {},
     "output_type": "execute_result"
    }
   ],
   "source": [
    "df3457.shape"
   ]
  },
  {
   "cell_type": "code",
   "execution_count": 38,
   "id": "3257e9da",
   "metadata": {},
   "outputs": [
    {
     "data": {
      "text/plain": [
       "(117332, 36)"
      ]
     },
     "execution_count": 38,
     "metadata": {},
     "output_type": "execute_result"
    }
   ],
   "source": [
    "df163457 = pd.merge(df16, df3457, on='order_id', how='inner')\n",
    "df163457.shape"
   ]
  },
  {
   "cell_type": "code",
   "execution_count": 39,
   "id": "3bc5d21c",
   "metadata": {},
   "outputs": [
    {
     "data": {
      "text/plain": [
       "Index(['customer_id', 'customer_unique_id', 'customer_zip_code_prefix',\n",
       "       'customer_city', 'customer_state', 'order_id', 'order_status',\n",
       "       'order_purchase_timestamp', 'order_approved_at',\n",
       "       'order_delivered_carrier_date', 'order_delivered_customer_date',\n",
       "       'order_estimated_delivery_date', 'order_item_id', 'product_id',\n",
       "       'seller_id', 'shipping_limit_date', 'price', 'freight_value',\n",
       "       'payment_sequential', 'payment_type', 'payment_installments',\n",
       "       'payment_value', 'review_id', 'review_score', 'review_comment_title',\n",
       "       'review_comment_message', 'review_creation_date',\n",
       "       'review_answer_timestamp', 'product_category_name',\n",
       "       'product_name_lenght', 'product_description_lenght',\n",
       "       'product_photos_qty', 'product_weight_g', 'product_length_cm',\n",
       "       'product_height_cm', 'product_width_cm'],\n",
       "      dtype='object')"
      ]
     },
     "execution_count": 39,
     "metadata": {},
     "output_type": "execute_result"
    }
   ],
   "source": [
    "df163457.columns"
   ]
  },
  {
   "cell_type": "code",
   "execution_count": 40,
   "id": "b65aab3e",
   "metadata": {},
   "outputs": [
    {
     "data": {
      "text/html": [
       "<div>\n",
       "<style scoped>\n",
       "    .dataframe tbody tr th:only-of-type {\n",
       "        vertical-align: middle;\n",
       "    }\n",
       "\n",
       "    .dataframe tbody tr th {\n",
       "        vertical-align: top;\n",
       "    }\n",
       "\n",
       "    .dataframe thead th {\n",
       "        text-align: right;\n",
       "    }\n",
       "</style>\n",
       "<table border=\"1\" class=\"dataframe\">\n",
       "  <thead>\n",
       "    <tr style=\"text-align: right;\">\n",
       "      <th></th>\n",
       "      <th>seller_id</th>\n",
       "      <th>seller_zip_code_prefix</th>\n",
       "      <th>seller_city</th>\n",
       "      <th>seller_state</th>\n",
       "    </tr>\n",
       "  </thead>\n",
       "  <tbody>\n",
       "    <tr>\n",
       "      <th>0</th>\n",
       "      <td>3442f8959a84dea7ee197c632cb2df15</td>\n",
       "      <td>13023</td>\n",
       "      <td>campinas</td>\n",
       "      <td>SP</td>\n",
       "    </tr>\n",
       "    <tr>\n",
       "      <th>1</th>\n",
       "      <td>d1b65fc7debc3361ea86b5f14c68d2e2</td>\n",
       "      <td>13844</td>\n",
       "      <td>mogi guacu</td>\n",
       "      <td>SP</td>\n",
       "    </tr>\n",
       "  </tbody>\n",
       "</table>\n",
       "</div>"
      ],
      "text/plain": [
       "                          seller_id  seller_zip_code_prefix seller_city  \\\n",
       "0  3442f8959a84dea7ee197c632cb2df15                   13023    campinas   \n",
       "1  d1b65fc7debc3361ea86b5f14c68d2e2                   13844  mogi guacu   \n",
       "\n",
       "  seller_state  \n",
       "0           SP  \n",
       "1           SP  "
      ]
     },
     "execution_count": 40,
     "metadata": {},
     "output_type": "execute_result"
    }
   ],
   "source": [
    "df8.head(2)"
   ]
  },
  {
   "cell_type": "code",
   "execution_count": 41,
   "id": "f8b2a571",
   "metadata": {},
   "outputs": [],
   "source": [
    "df1634578 = pd.merge(df163457, df8, on ='seller_id', how='inner')"
   ]
  },
  {
   "cell_type": "code",
   "execution_count": 42,
   "id": "91ac223d",
   "metadata": {},
   "outputs": [
    {
     "data": {
      "text/plain": [
       "(117332, 39)"
      ]
     },
     "execution_count": 42,
     "metadata": {},
     "output_type": "execute_result"
    }
   ],
   "source": [
    "df1634578.shape"
   ]
  },
  {
   "cell_type": "code",
   "execution_count": 43,
   "id": "770c284b",
   "metadata": {},
   "outputs": [
    {
     "data": {
      "text/plain": [
       "Index(['customer_id', 'customer_unique_id', 'customer_zip_code_prefix',\n",
       "       'customer_city', 'customer_state', 'order_id', 'order_status',\n",
       "       'order_purchase_timestamp', 'order_approved_at',\n",
       "       'order_delivered_carrier_date', 'order_delivered_customer_date',\n",
       "       'order_estimated_delivery_date', 'order_item_id', 'product_id',\n",
       "       'seller_id', 'shipping_limit_date', 'price', 'freight_value',\n",
       "       'payment_sequential', 'payment_type', 'payment_installments',\n",
       "       'payment_value', 'review_id', 'review_score', 'review_comment_title',\n",
       "       'review_comment_message', 'review_creation_date',\n",
       "       'review_answer_timestamp', 'product_category_name',\n",
       "       'product_name_lenght', 'product_description_lenght',\n",
       "       'product_photos_qty', 'product_weight_g', 'product_length_cm',\n",
       "       'product_height_cm', 'product_width_cm', 'seller_zip_code_prefix',\n",
       "       'seller_city', 'seller_state'],\n",
       "      dtype='object')"
      ]
     },
     "execution_count": 43,
     "metadata": {},
     "output_type": "execute_result"
    }
   ],
   "source": [
    "df1634578.columns"
   ]
  },
  {
   "cell_type": "code",
   "execution_count": 44,
   "id": "171e2b1e",
   "metadata": {},
   "outputs": [
    {
     "data": {
      "text/plain": [
       "73"
      ]
     },
     "execution_count": 44,
     "metadata": {},
     "output_type": "execute_result"
    }
   ],
   "source": [
    "df1634578['product_category_name'].nunique()"
   ]
  },
  {
   "cell_type": "code",
   "execution_count": 45,
   "id": "0d981797",
   "metadata": {},
   "outputs": [
    {
     "data": {
      "text/html": [
       "<div>\n",
       "<style scoped>\n",
       "    .dataframe tbody tr th:only-of-type {\n",
       "        vertical-align: middle;\n",
       "    }\n",
       "\n",
       "    .dataframe tbody tr th {\n",
       "        vertical-align: top;\n",
       "    }\n",
       "\n",
       "    .dataframe thead th {\n",
       "        text-align: right;\n",
       "    }\n",
       "</style>\n",
       "<table border=\"1\" class=\"dataframe\">\n",
       "  <thead>\n",
       "    <tr style=\"text-align: right;\">\n",
       "      <th></th>\n",
       "      <th>product_category_name</th>\n",
       "      <th>product_category_name_english</th>\n",
       "    </tr>\n",
       "  </thead>\n",
       "  <tbody>\n",
       "    <tr>\n",
       "      <th>0</th>\n",
       "      <td>beleza_saude</td>\n",
       "      <td>health_beauty</td>\n",
       "    </tr>\n",
       "  </tbody>\n",
       "</table>\n",
       "</div>"
      ],
      "text/plain": [
       "  product_category_name product_category_name_english\n",
       "0          beleza_saude                 health_beauty"
      ]
     },
     "execution_count": 45,
     "metadata": {},
     "output_type": "execute_result"
    }
   ],
   "source": [
    "df9.head(1)"
   ]
  },
  {
   "cell_type": "code",
   "execution_count": 46,
   "id": "40021002",
   "metadata": {},
   "outputs": [
    {
     "data": {
      "text/plain": [
       "71"
      ]
     },
     "execution_count": 46,
     "metadata": {},
     "output_type": "execute_result"
    }
   ],
   "source": [
    "df9['product_category_name'].nunique()"
   ]
  },
  {
   "cell_type": "code",
   "execution_count": 47,
   "id": "bef2acac",
   "metadata": {},
   "outputs": [],
   "source": [
    "df16345789 = pd.merge(df1634578, df9, on ='product_category_name', how='inner')"
   ]
  },
  {
   "cell_type": "code",
   "execution_count": 48,
   "id": "a9930400",
   "metadata": {},
   "outputs": [
    {
     "data": {
      "text/plain": [
       "(115612, 40)"
      ]
     },
     "execution_count": 48,
     "metadata": {},
     "output_type": "execute_result"
    }
   ],
   "source": [
    "df=df16345789\n",
    "df.shape"
   ]
  },
  {
   "cell_type": "code",
   "execution_count": 50,
   "id": "45a7f7a6",
   "metadata": {},
   "outputs": [
    {
     "data": {
      "text/html": [
       "<div>\n",
       "<style scoped>\n",
       "    .dataframe tbody tr th:only-of-type {\n",
       "        vertical-align: middle;\n",
       "    }\n",
       "\n",
       "    .dataframe tbody tr th {\n",
       "        vertical-align: top;\n",
       "    }\n",
       "\n",
       "    .dataframe thead th {\n",
       "        text-align: right;\n",
       "    }\n",
       "</style>\n",
       "<table border=\"1\" class=\"dataframe\">\n",
       "  <thead>\n",
       "    <tr style=\"text-align: right;\">\n",
       "      <th></th>\n",
       "      <th>customer_id</th>\n",
       "      <th>customer_unique_id</th>\n",
       "      <th>customer_zip_code_prefix</th>\n",
       "      <th>customer_city</th>\n",
       "      <th>customer_state</th>\n",
       "      <th>order_id</th>\n",
       "      <th>order_status</th>\n",
       "      <th>order_purchase_timestamp</th>\n",
       "      <th>order_approved_at</th>\n",
       "      <th>order_delivered_carrier_date</th>\n",
       "      <th>...</th>\n",
       "      <th>product_description_lenght</th>\n",
       "      <th>product_photos_qty</th>\n",
       "      <th>product_weight_g</th>\n",
       "      <th>product_length_cm</th>\n",
       "      <th>product_height_cm</th>\n",
       "      <th>product_width_cm</th>\n",
       "      <th>seller_zip_code_prefix</th>\n",
       "      <th>seller_city</th>\n",
       "      <th>seller_state</th>\n",
       "      <th>product_category_name_english</th>\n",
       "    </tr>\n",
       "  </thead>\n",
       "  <tbody>\n",
       "    <tr>\n",
       "      <th>0</th>\n",
       "      <td>06b8999e2fba1a1fbc88172c00ba8bc7</td>\n",
       "      <td>861eff4711a542e4b93843c6dd7febb0</td>\n",
       "      <td>14409</td>\n",
       "      <td>franca</td>\n",
       "      <td>SP</td>\n",
       "      <td>00e7ee1b050b8499577073aeb2a297a1</td>\n",
       "      <td>delivered</td>\n",
       "      <td>2017-05-16 15:05:35</td>\n",
       "      <td>2017-05-16 15:22:12</td>\n",
       "      <td>2017-05-23 10:47:57</td>\n",
       "      <td>...</td>\n",
       "      <td>1141.0</td>\n",
       "      <td>1.0</td>\n",
       "      <td>8683.0</td>\n",
       "      <td>54.0</td>\n",
       "      <td>64.0</td>\n",
       "      <td>31.0</td>\n",
       "      <td>8577</td>\n",
       "      <td>itaquaquecetuba</td>\n",
       "      <td>SP</td>\n",
       "      <td>office_furniture</td>\n",
       "    </tr>\n",
       "    <tr>\n",
       "      <th>1</th>\n",
       "      <td>4e7b3e00288586ebd08712fdd0374a03</td>\n",
       "      <td>060e732b5b29e8181a18229c7b0b2b5e</td>\n",
       "      <td>1151</td>\n",
       "      <td>sao paulo</td>\n",
       "      <td>SP</td>\n",
       "      <td>b2059ed67ce144a36e2aa97d2c9e9ad2</td>\n",
       "      <td>delivered</td>\n",
       "      <td>2018-05-19 16:07:45</td>\n",
       "      <td>2018-05-20 16:19:10</td>\n",
       "      <td>2018-06-11 14:31:00</td>\n",
       "      <td>...</td>\n",
       "      <td>955.0</td>\n",
       "      <td>1.0</td>\n",
       "      <td>8267.0</td>\n",
       "      <td>52.0</td>\n",
       "      <td>52.0</td>\n",
       "      <td>17.0</td>\n",
       "      <td>8577</td>\n",
       "      <td>itaquaquecetuba</td>\n",
       "      <td>SP</td>\n",
       "      <td>office_furniture</td>\n",
       "    </tr>\n",
       "    <tr>\n",
       "      <th>2</th>\n",
       "      <td>b2b6027bc5c5109e529d4dc6358b12c3</td>\n",
       "      <td>259dac757896d24d7702b9acbbff3f3c</td>\n",
       "      <td>8775</td>\n",
       "      <td>mogi das cruzes</td>\n",
       "      <td>SP</td>\n",
       "      <td>951670f92359f4fe4a63112aa7306eba</td>\n",
       "      <td>delivered</td>\n",
       "      <td>2018-03-13 16:06:38</td>\n",
       "      <td>2018-03-13 17:29:19</td>\n",
       "      <td>2018-03-27 23:22:42</td>\n",
       "      <td>...</td>\n",
       "      <td>1066.0</td>\n",
       "      <td>1.0</td>\n",
       "      <td>12160.0</td>\n",
       "      <td>56.0</td>\n",
       "      <td>51.0</td>\n",
       "      <td>28.0</td>\n",
       "      <td>8577</td>\n",
       "      <td>itaquaquecetuba</td>\n",
       "      <td>SP</td>\n",
       "      <td>office_furniture</td>\n",
       "    </tr>\n",
       "    <tr>\n",
       "      <th>3</th>\n",
       "      <td>4c06b42fbf7b97ab10779cda5549cd1c</td>\n",
       "      <td>07d190f123147d9e89d4b922543d7948</td>\n",
       "      <td>65075</td>\n",
       "      <td>sao luis</td>\n",
       "      <td>MA</td>\n",
       "      <td>997fd4b37386d10b57d4ac8cdec011a6</td>\n",
       "      <td>delivered</td>\n",
       "      <td>2018-07-08 09:59:19</td>\n",
       "      <td>2018-07-08 10:30:15</td>\n",
       "      <td>2018-07-25 15:12:00</td>\n",
       "      <td>...</td>\n",
       "      <td>1128.0</td>\n",
       "      <td>1.0</td>\n",
       "      <td>16133.0</td>\n",
       "      <td>63.0</td>\n",
       "      <td>59.0</td>\n",
       "      <td>25.0</td>\n",
       "      <td>8577</td>\n",
       "      <td>itaquaquecetuba</td>\n",
       "      <td>SP</td>\n",
       "      <td>office_furniture</td>\n",
       "    </tr>\n",
       "    <tr>\n",
       "      <th>4</th>\n",
       "      <td>8276de07ef25225d412b8462d73f8664</td>\n",
       "      <td>332cf4e83e16004ba7dca932ce82475b</td>\n",
       "      <td>90010</td>\n",
       "      <td>porto alegre</td>\n",
       "      <td>RS</td>\n",
       "      <td>b63fff1ef8b6201df68bb611ee41129e</td>\n",
       "      <td>delivered</td>\n",
       "      <td>2017-04-02 22:15:27</td>\n",
       "      <td>2017-04-04 05:55:19</td>\n",
       "      <td>2017-04-13 16:28:06</td>\n",
       "      <td>...</td>\n",
       "      <td>154.0</td>\n",
       "      <td>1.0</td>\n",
       "      <td>2600.0</td>\n",
       "      <td>40.0</td>\n",
       "      <td>45.0</td>\n",
       "      <td>39.0</td>\n",
       "      <td>8577</td>\n",
       "      <td>itaquaquecetuba</td>\n",
       "      <td>SP</td>\n",
       "      <td>office_furniture</td>\n",
       "    </tr>\n",
       "  </tbody>\n",
       "</table>\n",
       "<p>5 rows × 40 columns</p>\n",
       "</div>"
      ],
      "text/plain": [
       "                        customer_id                customer_unique_id  \\\n",
       "0  06b8999e2fba1a1fbc88172c00ba8bc7  861eff4711a542e4b93843c6dd7febb0   \n",
       "1  4e7b3e00288586ebd08712fdd0374a03  060e732b5b29e8181a18229c7b0b2b5e   \n",
       "2  b2b6027bc5c5109e529d4dc6358b12c3  259dac757896d24d7702b9acbbff3f3c   \n",
       "3  4c06b42fbf7b97ab10779cda5549cd1c  07d190f123147d9e89d4b922543d7948   \n",
       "4  8276de07ef25225d412b8462d73f8664  332cf4e83e16004ba7dca932ce82475b   \n",
       "\n",
       "   customer_zip_code_prefix    customer_city customer_state  \\\n",
       "0                     14409           franca             SP   \n",
       "1                      1151        sao paulo             SP   \n",
       "2                      8775  mogi das cruzes             SP   \n",
       "3                     65075         sao luis             MA   \n",
       "4                     90010     porto alegre             RS   \n",
       "\n",
       "                           order_id order_status order_purchase_timestamp  \\\n",
       "0  00e7ee1b050b8499577073aeb2a297a1    delivered      2017-05-16 15:05:35   \n",
       "1  b2059ed67ce144a36e2aa97d2c9e9ad2    delivered      2018-05-19 16:07:45   \n",
       "2  951670f92359f4fe4a63112aa7306eba    delivered      2018-03-13 16:06:38   \n",
       "3  997fd4b37386d10b57d4ac8cdec011a6    delivered      2018-07-08 09:59:19   \n",
       "4  b63fff1ef8b6201df68bb611ee41129e    delivered      2017-04-02 22:15:27   \n",
       "\n",
       "     order_approved_at order_delivered_carrier_date  ...  \\\n",
       "0  2017-05-16 15:22:12          2017-05-23 10:47:57  ...   \n",
       "1  2018-05-20 16:19:10          2018-06-11 14:31:00  ...   \n",
       "2  2018-03-13 17:29:19          2018-03-27 23:22:42  ...   \n",
       "3  2018-07-08 10:30:15          2018-07-25 15:12:00  ...   \n",
       "4  2017-04-04 05:55:19          2017-04-13 16:28:06  ...   \n",
       "\n",
       "  product_description_lenght product_photos_qty  product_weight_g  \\\n",
       "0                     1141.0                1.0            8683.0   \n",
       "1                      955.0                1.0            8267.0   \n",
       "2                     1066.0                1.0           12160.0   \n",
       "3                     1128.0                1.0           16133.0   \n",
       "4                      154.0                1.0            2600.0   \n",
       "\n",
       "  product_length_cm product_height_cm product_width_cm  \\\n",
       "0              54.0              64.0             31.0   \n",
       "1              52.0              52.0             17.0   \n",
       "2              56.0              51.0             28.0   \n",
       "3              63.0              59.0             25.0   \n",
       "4              40.0              45.0             39.0   \n",
       "\n",
       "   seller_zip_code_prefix      seller_city  seller_state  \\\n",
       "0                    8577  itaquaquecetuba            SP   \n",
       "1                    8577  itaquaquecetuba            SP   \n",
       "2                    8577  itaquaquecetuba            SP   \n",
       "3                    8577  itaquaquecetuba            SP   \n",
       "4                    8577  itaquaquecetuba            SP   \n",
       "\n",
       "  product_category_name_english  \n",
       "0              office_furniture  \n",
       "1              office_furniture  \n",
       "2              office_furniture  \n",
       "3              office_furniture  \n",
       "4              office_furniture  \n",
       "\n",
       "[5 rows x 40 columns]"
      ]
     },
     "execution_count": 50,
     "metadata": {},
     "output_type": "execute_result"
    }
   ],
   "source": [
    "df.head()"
   ]
  },
  {
   "cell_type": "code",
   "execution_count": 51,
   "id": "5c574db2",
   "metadata": {},
   "outputs": [
    {
     "data": {
      "text/plain": [
       "93397"
      ]
     },
     "execution_count": 51,
     "metadata": {},
     "output_type": "execute_result"
    }
   ],
   "source": [
    "df['customer_unique_id'].nunique()"
   ]
  },
  {
   "cell_type": "code",
   "execution_count": 52,
   "id": "dbc96082",
   "metadata": {},
   "outputs": [
    {
     "data": {
      "text/plain": [
       "Index(['customer_id', 'customer_unique_id', 'customer_zip_code_prefix',\n",
       "       'customer_city', 'customer_state', 'order_id', 'order_status',\n",
       "       'order_purchase_timestamp', 'order_approved_at',\n",
       "       'order_delivered_carrier_date', 'order_delivered_customer_date',\n",
       "       'order_estimated_delivery_date', 'order_item_id', 'product_id',\n",
       "       'seller_id', 'shipping_limit_date', 'price', 'freight_value',\n",
       "       'payment_sequential', 'payment_type', 'payment_installments',\n",
       "       'payment_value', 'review_id', 'review_score', 'review_comment_title',\n",
       "       'review_comment_message', 'review_creation_date',\n",
       "       'review_answer_timestamp', 'product_category_name',\n",
       "       'product_name_lenght', 'product_description_lenght',\n",
       "       'product_photos_qty', 'product_weight_g', 'product_length_cm',\n",
       "       'product_height_cm', 'product_width_cm', 'seller_zip_code_prefix',\n",
       "       'seller_city', 'seller_state', 'product_category_name_english'],\n",
       "      dtype='object')"
      ]
     },
     "execution_count": 52,
     "metadata": {},
     "output_type": "execute_result"
    }
   ],
   "source": [
    "df.columns"
   ]
  },
  {
   "cell_type": "code",
   "execution_count": 53,
   "id": "f0586693",
   "metadata": {},
   "outputs": [
    {
     "name": "stdout",
     "output_type": "stream",
     "text": [
      "<class 'pandas.core.frame.DataFrame'>\n",
      "Int64Index: 115612 entries, 0 to 115611\n",
      "Data columns (total 40 columns):\n",
      " #   Column                         Non-Null Count   Dtype  \n",
      "---  ------                         --------------   -----  \n",
      " 0   customer_id                    115612 non-null  object \n",
      " 1   customer_unique_id             115612 non-null  object \n",
      " 2   customer_zip_code_prefix       115612 non-null  int64  \n",
      " 3   customer_city                  115612 non-null  object \n",
      " 4   customer_state                 115612 non-null  object \n",
      " 5   order_id                       115612 non-null  object \n",
      " 6   order_status                   115612 non-null  object \n",
      " 7   order_purchase_timestamp       115612 non-null  object \n",
      " 8   order_approved_at              115598 non-null  object \n",
      " 9   order_delivered_carrier_date   114417 non-null  object \n",
      " 10  order_delivered_customer_date  113212 non-null  object \n",
      " 11  order_estimated_delivery_date  115612 non-null  object \n",
      " 12  order_item_id                  115612 non-null  int64  \n",
      " 13  product_id                     115612 non-null  object \n",
      " 14  seller_id                      115612 non-null  object \n",
      " 15  shipping_limit_date            115612 non-null  object \n",
      " 16  price                          115612 non-null  float64\n",
      " 17  freight_value                  115612 non-null  float64\n",
      " 18  payment_sequential             115609 non-null  float64\n",
      " 19  payment_type                   115609 non-null  object \n",
      " 20  payment_installments           115609 non-null  float64\n",
      " 21  payment_value                  115609 non-null  float64\n",
      " 22  review_id                      115612 non-null  object \n",
      " 23  review_score                   115612 non-null  int64  \n",
      " 24  review_comment_title           13801 non-null   object \n",
      " 25  review_comment_message         48909 non-null   object \n",
      " 26  review_creation_date           115612 non-null  object \n",
      " 27  review_answer_timestamp        115612 non-null  object \n",
      " 28  product_category_name          115612 non-null  object \n",
      " 29  product_name_lenght            115612 non-null  float64\n",
      " 30  product_description_lenght     115612 non-null  float64\n",
      " 31  product_photos_qty             115612 non-null  float64\n",
      " 32  product_weight_g               115611 non-null  float64\n",
      " 33  product_length_cm              115611 non-null  float64\n",
      " 34  product_height_cm              115611 non-null  float64\n",
      " 35  product_width_cm               115611 non-null  float64\n",
      " 36  seller_zip_code_prefix         115612 non-null  int64  \n",
      " 37  seller_city                    115612 non-null  object \n",
      " 38  seller_state                   115612 non-null  object \n",
      " 39  product_category_name_english  115612 non-null  object \n",
      "dtypes: float64(12), int64(4), object(24)\n",
      "memory usage: 36.2+ MB\n"
     ]
    }
   ],
   "source": [
    "df.info()"
   ]
  },
  {
   "cell_type": "code",
   "execution_count": 54,
   "id": "ca2addf2",
   "metadata": {},
   "outputs": [
    {
     "name": "stdout",
     "output_type": "stream",
     "text": [
      "Requirement already satisfied: missingno in c:\\users\\utilisateur\\anaconda3\\lib\\site-packages (0.5.2)\n",
      "Requirement already satisfied: matplotlib in c:\\users\\utilisateur\\anaconda3\\lib\\site-packages (from missingno) (3.5.2)\n",
      "Requirement already satisfied: numpy in c:\\users\\utilisateur\\anaconda3\\lib\\site-packages (from missingno) (1.21.5)\n",
      "Requirement already satisfied: seaborn in c:\\users\\utilisateur\\anaconda3\\lib\\site-packages (from missingno) (0.11.2)\n",
      "Requirement already satisfied: scipy in c:\\users\\utilisateur\\anaconda3\\lib\\site-packages (from missingno) (1.9.1)\n",
      "Requirement already satisfied: fonttools>=4.22.0 in c:\\users\\utilisateur\\anaconda3\\lib\\site-packages (from matplotlib->missingno) (4.25.0)\n",
      "Requirement already satisfied: kiwisolver>=1.0.1 in c:\\users\\utilisateur\\anaconda3\\lib\\site-packages (from matplotlib->missingno) (1.4.2)\n",
      "Requirement already satisfied: packaging>=20.0 in c:\\users\\utilisateur\\anaconda3\\lib\\site-packages (from matplotlib->missingno) (21.3)\n",
      "Requirement already satisfied: cycler>=0.10 in c:\\users\\utilisateur\\anaconda3\\lib\\site-packages (from matplotlib->missingno) (0.11.0)\n",
      "Requirement already satisfied: python-dateutil>=2.7 in c:\\users\\utilisateur\\anaconda3\\lib\\site-packages (from matplotlib->missingno) (2.8.2)\n",
      "Requirement already satisfied: pyparsing>=2.2.1 in c:\\users\\utilisateur\\anaconda3\\lib\\site-packages (from matplotlib->missingno) (3.0.9)\n",
      "Requirement already satisfied: pillow>=6.2.0 in c:\\users\\utilisateur\\anaconda3\\lib\\site-packages (from matplotlib->missingno) (9.2.0)\n",
      "Requirement already satisfied: pandas>=0.23 in c:\\users\\utilisateur\\anaconda3\\lib\\site-packages (from seaborn->missingno) (1.4.4)\n",
      "Requirement already satisfied: pytz>=2020.1 in c:\\users\\utilisateur\\anaconda3\\lib\\site-packages (from pandas>=0.23->seaborn->missingno) (2022.1)\n",
      "Requirement already satisfied: six>=1.5 in c:\\users\\utilisateur\\anaconda3\\lib\\site-packages (from python-dateutil>=2.7->matplotlib->missingno) (1.16.0)\n",
      "Note: you may need to restart the kernel to use updated packages.\n"
     ]
    }
   ],
   "source": [
    "pip install missingno"
   ]
  },
  {
   "cell_type": "code",
   "execution_count": 55,
   "id": "394dc793",
   "metadata": {},
   "outputs": [
    {
     "data": {
      "image/png": "[encoded data removed]",
      "text/plain": [
       "<Figure size 2500x1000 with 2 Axes>"
      ]
     },
     "metadata": {},
     "output_type": "display_data"
    }
   ],
   "source": [
    "import missingno as msno\n",
    "%matplotlib inline\n",
    "msno.matrix(df.sample(300))\n",
    "plt.savefig('missingo')"
   ]
  },
  {
   "cell_type": "markdown",
   "id": "cad67f97",
   "metadata": {},
   "source": [
    "Nous allons commencer une première étape de nettoyage qui Consiste à élimininer les coonnes qui semblent non pertinente pour notre étude"
   ]
  },
  {
   "cell_type": "code",
   "execution_count": 56,
   "id": "14c714b8",
   "metadata": {},
   "outputs": [],
   "source": [
    "df.drop(['order_status', 'review_comment_title', 'order_approved_at', 'order_delivered_carrier_date', \n",
    "       'order_delivered_customer_date', 'order_estimated_delivery_date', 'order_item_id', 'shipping_limit_date',\n",
    "        'review_id', 'review_creation_date', 'review_answer_timestamp', 'product_name_lenght','product_description_lenght', \n",
    "         'seller_city', 'product_category_name_english'\n",
    "        ], axis =1, inplace =True)"
   ]
  },
  {
   "cell_type": "code",
   "execution_count": 57,
   "id": "e2e9a38b",
   "metadata": {},
   "outputs": [
    {
     "data": {
      "text/plain": [
       "customer_id                  0.000000\n",
       "customer_unique_id           0.000000\n",
       "customer_zip_code_prefix     0.000000\n",
       "customer_city                0.000000\n",
       "customer_state               0.000000\n",
       "order_id                     0.000000\n",
       "order_purchase_timestamp     0.000000\n",
       "product_id                   0.000000\n",
       "seller_id                    0.000000\n",
       "price                        0.000000\n",
       "freight_value                0.000000\n",
       "payment_sequential           0.002595\n",
       "payment_type                 0.002595\n",
       "payment_installments         0.002595\n",
       "payment_value                0.002595\n",
       "review_score                 0.000000\n",
       "review_comment_message      57.695568\n",
       "product_category_name        0.000000\n",
       "product_photos_qty           0.000000\n",
       "product_weight_g             0.000865\n",
       "product_length_cm            0.000865\n",
       "product_height_cm            0.000865\n",
       "product_width_cm             0.000865\n",
       "seller_zip_code_prefix       0.000000\n",
       "seller_state                 0.000000\n",
       "dtype: float64"
      ]
     },
     "execution_count": 57,
     "metadata": {},
     "output_type": "execute_result"
    }
   ],
   "source": [
    "(df.isnull().sum() / df.shape[0] ) * 100"
   ]
  },
  {
   "cell_type": "code",
   "execution_count": 58,
   "id": "2eb63a88",
   "metadata": {},
   "outputs": [],
   "source": [
    "df.drop(['review_comment_message', 'product_weight_g', 'product_length_cm', \n",
    "         'product_height_cm', 'product_width_cm'], axis=1, inplace= True)"
   ]
  },
  {
   "cell_type": "code",
   "execution_count": 59,
   "id": "78444fba",
   "metadata": {},
   "outputs": [
    {
     "data": {
      "text/plain": [
       "(115612, 20)"
      ]
     },
     "execution_count": 59,
     "metadata": {},
     "output_type": "execute_result"
    }
   ],
   "source": [
    "df.shape"
   ]
  },
  {
   "cell_type": "code",
   "execution_count": 60,
   "id": "108eb6fa",
   "metadata": {},
   "outputs": [
    {
     "name": "stdout",
     "output_type": "stream",
     "text": [
      "customer_id                 False\n",
      "customer_unique_id          False\n",
      "customer_zip_code_prefix    False\n",
      "customer_city               False\n",
      "customer_state              False\n",
      "order_id                    False\n",
      "order_purchase_timestamp    False\n",
      "product_id                  False\n",
      "seller_id                   False\n",
      "price                       False\n",
      "freight_value               False\n",
      "payment_sequential           True\n",
      "payment_type                 True\n",
      "payment_installments         True\n",
      "payment_value                True\n",
      "review_score                False\n",
      "product_category_name       False\n",
      "product_photos_qty          False\n",
      "seller_zip_code_prefix      False\n",
      "seller_state                False\n",
      "dtype: bool\n"
     ]
    }
   ],
   "source": [
    "colonnes_manquantes = df.isnull().any(axis=0)\n",
    "print(colonnes_manquantes)"
   ]
  },
  {
   "cell_type": "code",
   "execution_count": 61,
   "id": "8b9e4c5b",
   "metadata": {},
   "outputs": [
    {
     "name": "stdout",
     "output_type": "stream",
     "text": [
      "0         False\n",
      "1         False\n",
      "2         False\n",
      "3         False\n",
      "4         False\n",
      "          ...  \n",
      "115607    False\n",
      "115608    False\n",
      "115609    False\n",
      "115610    False\n",
      "115611    False\n",
      "Length: 115612, dtype: bool\n"
     ]
    }
   ],
   "source": [
    "lignes_manquantes = df.isnull().any(axis=1)\n",
    "print(lignes_manquantes)\n"
   ]
  },
  {
   "cell_type": "code",
   "execution_count": 62,
   "id": "7f93ce3a",
   "metadata": {},
   "outputs": [
    {
     "name": "stdout",
     "output_type": "stream",
     "text": [
      "Int64Index([80355, 80356, 80357], dtype='int64')\n"
     ]
    }
   ],
   "source": [
    "indexes_lignes_manquantes = df[lignes_manquantes].index\n",
    "print(indexes_lignes_manquantes)"
   ]
  },
  {
   "cell_type": "code",
   "execution_count": 63,
   "id": "5668f3b5",
   "metadata": {},
   "outputs": [],
   "source": [
    "df.drop(indexes_lignes_manquantes, inplace=True)\n"
   ]
  },
  {
   "cell_type": "markdown",
   "id": "0293aa9b",
   "metadata": {},
   "source": [
    "Notre dataset est ainsi néttoyé, nous allons pouvoir entamer l'analyse exploratoire"
   ]
  },
  {
   "cell_type": "code",
   "execution_count": 64,
   "id": "0f8a6dfe",
   "metadata": {
    "scrolled": true
   },
   "outputs": [
    {
     "data": {
      "text/html": [
       "<div>\n",
       "<style scoped>\n",
       "    .dataframe tbody tr th:only-of-type {\n",
       "        vertical-align: middle;\n",
       "    }\n",
       "\n",
       "    .dataframe tbody tr th {\n",
       "        vertical-align: top;\n",
       "    }\n",
       "\n",
       "    .dataframe thead th {\n",
       "        text-align: right;\n",
       "    }\n",
       "</style>\n",
       "<table border=\"1\" class=\"dataframe\">\n",
       "  <thead>\n",
       "    <tr style=\"text-align: right;\">\n",
       "      <th></th>\n",
       "      <th>customer_zip_code_prefix</th>\n",
       "      <th>price</th>\n",
       "      <th>freight_value</th>\n",
       "      <th>payment_sequential</th>\n",
       "      <th>payment_installments</th>\n",
       "      <th>payment_value</th>\n",
       "      <th>review_score</th>\n",
       "      <th>product_photos_qty</th>\n",
       "      <th>seller_zip_code_prefix</th>\n",
       "    </tr>\n",
       "  </thead>\n",
       "  <tbody>\n",
       "    <tr>\n",
       "      <th>count</th>\n",
       "      <td>115609.000000</td>\n",
       "      <td>115609.000000</td>\n",
       "      <td>115609.000000</td>\n",
       "      <td>115609.000000</td>\n",
       "      <td>115609.000000</td>\n",
       "      <td>115609.000000</td>\n",
       "      <td>115609.000000</td>\n",
       "      <td>115609.000000</td>\n",
       "      <td>115609.000000</td>\n",
       "    </tr>\n",
       "    <tr>\n",
       "      <th>mean</th>\n",
       "      <td>35061.537597</td>\n",
       "      <td>120.619850</td>\n",
       "      <td>20.056880</td>\n",
       "      <td>1.093747</td>\n",
       "      <td>2.946233</td>\n",
       "      <td>172.387379</td>\n",
       "      <td>4.034409</td>\n",
       "      <td>2.205373</td>\n",
       "      <td>24515.713958</td>\n",
       "    </tr>\n",
       "    <tr>\n",
       "      <th>std</th>\n",
       "      <td>29841.671732</td>\n",
       "      <td>182.653476</td>\n",
       "      <td>15.836184</td>\n",
       "      <td>0.729849</td>\n",
       "      <td>2.781087</td>\n",
       "      <td>265.873969</td>\n",
       "      <td>1.385584</td>\n",
       "      <td>1.717771</td>\n",
       "      <td>27636.640968</td>\n",
       "    </tr>\n",
       "    <tr>\n",
       "      <th>min</th>\n",
       "      <td>1003.000000</td>\n",
       "      <td>0.850000</td>\n",
       "      <td>0.000000</td>\n",
       "      <td>1.000000</td>\n",
       "      <td>0.000000</td>\n",
       "      <td>0.000000</td>\n",
       "      <td>1.000000</td>\n",
       "      <td>1.000000</td>\n",
       "      <td>1001.000000</td>\n",
       "    </tr>\n",
       "    <tr>\n",
       "      <th>25%</th>\n",
       "      <td>11310.000000</td>\n",
       "      <td>39.900000</td>\n",
       "      <td>13.080000</td>\n",
       "      <td>1.000000</td>\n",
       "      <td>1.000000</td>\n",
       "      <td>60.870000</td>\n",
       "      <td>4.000000</td>\n",
       "      <td>1.000000</td>\n",
       "      <td>6429.000000</td>\n",
       "    </tr>\n",
       "    <tr>\n",
       "      <th>50%</th>\n",
       "      <td>24241.000000</td>\n",
       "      <td>74.900000</td>\n",
       "      <td>16.320000</td>\n",
       "      <td>1.000000</td>\n",
       "      <td>2.000000</td>\n",
       "      <td>108.050000</td>\n",
       "      <td>5.000000</td>\n",
       "      <td>1.000000</td>\n",
       "      <td>13660.000000</td>\n",
       "    </tr>\n",
       "    <tr>\n",
       "      <th>75%</th>\n",
       "      <td>58745.000000</td>\n",
       "      <td>134.900000</td>\n",
       "      <td>21.210000</td>\n",
       "      <td>1.000000</td>\n",
       "      <td>4.000000</td>\n",
       "      <td>189.480000</td>\n",
       "      <td>5.000000</td>\n",
       "      <td>3.000000</td>\n",
       "      <td>28605.000000</td>\n",
       "    </tr>\n",
       "    <tr>\n",
       "      <th>max</th>\n",
       "      <td>99980.000000</td>\n",
       "      <td>6735.000000</td>\n",
       "      <td>409.680000</td>\n",
       "      <td>29.000000</td>\n",
       "      <td>24.000000</td>\n",
       "      <td>13664.080000</td>\n",
       "      <td>5.000000</td>\n",
       "      <td>20.000000</td>\n",
       "      <td>99730.000000</td>\n",
       "    </tr>\n",
       "  </tbody>\n",
       "</table>\n",
       "</div>"
      ],
      "text/plain": [
       "       customer_zip_code_prefix          price  freight_value  \\\n",
       "count             115609.000000  115609.000000  115609.000000   \n",
       "mean               35061.537597     120.619850      20.056880   \n",
       "std                29841.671732     182.653476      15.836184   \n",
       "min                 1003.000000       0.850000       0.000000   \n",
       "25%                11310.000000      39.900000      13.080000   \n",
       "50%                24241.000000      74.900000      16.320000   \n",
       "75%                58745.000000     134.900000      21.210000   \n",
       "max                99980.000000    6735.000000     409.680000   \n",
       "\n",
       "       payment_sequential  payment_installments  payment_value   review_score  \\\n",
       "count       115609.000000         115609.000000  115609.000000  115609.000000   \n",
       "mean             1.093747              2.946233     172.387379       4.034409   \n",
       "std              0.729849              2.781087     265.873969       1.385584   \n",
       "min              1.000000              0.000000       0.000000       1.000000   \n",
       "25%              1.000000              1.000000      60.870000       4.000000   \n",
       "50%              1.000000              2.000000     108.050000       5.000000   \n",
       "75%              1.000000              4.000000     189.480000       5.000000   \n",
       "max             29.000000             24.000000   13664.080000       5.000000   \n",
       "\n",
       "       product_photos_qty  seller_zip_code_prefix  \n",
       "count       115609.000000           115609.000000  \n",
       "mean             2.205373            24515.713958  \n",
       "std              1.717771            27636.640968  \n",
       "min              1.000000             1001.000000  \n",
       "25%              1.000000             6429.000000  \n",
       "50%              1.000000            13660.000000  \n",
       "75%              3.000000            28605.000000  \n",
       "max             20.000000            99730.000000  "
      ]
     },
     "execution_count": 64,
     "metadata": {},
     "output_type": "execute_result"
    }
   ],
   "source": [
    "df.describe()#include='all')"
   ]
  },
  {
   "cell_type": "markdown",
   "id": "b212250a",
   "metadata": {},
   "source": [
    "Comme la variable 'payment_value' représente le somme totale payée par le client, nous supprimons les lignes des colonnes qui devrais avoir des valeurs inférieur à 'payment_value'. "
   ]
  },
  {
   "cell_type": "code",
   "execution_count": 65,
   "id": "80a7ef1d",
   "metadata": {},
   "outputs": [
    {
     "data": {
      "text/plain": [
       "(109303, 20)"
      ]
     },
     "execution_count": 65,
     "metadata": {},
     "output_type": "execute_result"
    }
   ],
   "source": [
    "df = df[(df['payment_installments'] <= df['payment_value']) & (df['price'] <= df['payment_value'])]\n",
    "df.shape"
   ]
  },
  {
   "cell_type": "code",
   "execution_count": null,
   "id": "0bfc8601",
   "metadata": {},
   "outputs": [],
   "source": []
  },
  {
   "cell_type": "code",
   "execution_count": 66,
   "id": "f0288c5e",
   "metadata": {},
   "outputs": [],
   "source": [
    "numerical_cols = ['customer_zip_code_prefix', 'price', 'freight_value', 'payment_sequential', 'payment_installments', 'payment_value', 'review_score', \n",
    "                 'product_photos_qty', 'seller_zip_code_prefix' ]"
   ]
  },
  {
   "cell_type": "code",
   "execution_count": 67,
   "id": "0f8b53ab",
   "metadata": {},
   "outputs": [
    {
     "name": "stdout",
     "output_type": "stream",
     "text": [
      "Le DataFrame ne contient pas de valeurs négatives.\n"
     ]
    }
   ],
   "source": [
    "# Nous vrifieons s'il y a des valeurs négatives dans le DataFrame\n",
    "has_negative_values = (df[numerical_cols] < 0).any().any()\n",
    "\n",
    "if has_negative_values:\n",
    "    print(\"Le DataFrame contient des valeurs négatives.\")\n",
    "else:\n",
    "    print(\"Le DataFrame ne contient pas de valeurs négatives.\")\n"
   ]
  },
  {
   "cell_type": "code",
   "execution_count": 68,
   "id": "a0f8ce99",
   "metadata": {},
   "outputs": [
    {
     "data": {
      "text/plain": [
       "array([4, 5, 1, 2, 3], dtype=int64)"
      ]
     },
     "execution_count": 68,
     "metadata": {},
     "output_type": "execute_result"
    }
   ],
   "source": [
    "df['review_score'].unique()"
   ]
  },
  {
   "cell_type": "markdown",
   "id": "4d8fb313",
   "metadata": {},
   "source": [
    "Pour l'étude de notre segementation, nous utliserons des algorithmes sensibles aux valeurs aberrantes, nous allons donc les supprimer "
   ]
  },
  {
   "cell_type": "code",
   "execution_count": 69,
   "id": "7e89ca26",
   "metadata": {},
   "outputs": [
    {
     "data": {
      "image/png": "[encoded data removed]",
      "text/plain": [
       "<Figure size 900x1800 with 9 Axes>"
      ]
     },
     "metadata": {},
     "output_type": "display_data"
    }
   ],
   "source": [
    "import matplotlib.pyplot as plt\n",
    "import math\n",
    "\n",
    "# Calculer le nombre de lignes nécessaires\n",
    "num_rows = math.ceil(len(numerical_cols) / 3)\n",
    "\n",
    "# Créer une figure et un ensemble d'axes\n",
    "fig, axes = plt.subplots(nrows=num_rows, ncols=3, figsize=(9, 6*num_rows))\n",
    "\n",
    "# Tracer les boxplots pour chaque variable\n",
    "for i, col in enumerate(numerical_cols):\n",
    "    row = i // 3\n",
    "    col = i % 3\n",
    "    axes[row, col].boxplot(df[numerical_cols[i]].values, vert=False)\n",
    "    axes[row, col].set_title(col)\n",
    "    axes[row, col].set_xlabel(\"Valeurs\")\n",
    "\n",
    "# Ajuster l'espacement entre les sous-graphiques\n",
    "plt.tight_layout()\n",
    "plt.savefig('boxplot')\n",
    "# Afficher le graphique\n",
    "plt.show()\n"
   ]
  },
  {
   "cell_type": "code",
   "execution_count": 70,
   "id": "e6e51762",
   "metadata": {},
   "outputs": [],
   "source": [
    "# Seuils pour chaque variable numérique\n",
    "thresholds = {\n",
    "    'price': (0.850000, 6735.000000),\n",
    "    'freight_value': (0.000000, 409.680000),\n",
    "    'payment_sequential': (1.000000, 29.000000),\n",
    "    'payment_installments': (0.000000, 24.000000),\n",
    "    'payment_value': (0.000000, 13664.080000),\n",
    "    'review_score': (1.000000, 5.000000),\n",
    "    'product_photos_qty': (1.000000, 20.000000),\n",
    "    'seller_zip_code_prefix': (1001.000000, 99730.000000)\n",
    "}\n",
    "\n",
    "# Fonction pour supprimer les outliers\n",
    "def remove_outliers(df, column, lower_threshold, upper_threshold):\n",
    "    df = df[(df[column] >= lower_threshold) & (df[column] <= upper_threshold)]\n",
    "    return df\n",
    "\n",
    "# Supprimer les outliers pour chaque variable\n",
    "for column in numerical_cols:\n",
    "    if column in thresholds:\n",
    "        lower_threshold, upper_threshold = thresholds[column]\n",
    "        df = remove_outliers(df, column, lower_threshold, upper_threshold)\n"
   ]
  },
  {
   "cell_type": "code",
   "execution_count": 71,
   "id": "1006cc5d",
   "metadata": {},
   "outputs": [
    {
     "data": {
      "text/plain": [
       "(109303, 20)"
      ]
     },
     "execution_count": 71,
     "metadata": {},
     "output_type": "execute_result"
    }
   ],
   "source": [
    "df.shape"
   ]
  },
  {
   "cell_type": "code",
   "execution_count": 72,
   "id": "c947f545",
   "metadata": {},
   "outputs": [],
   "source": [
    "# Fonction pour supprimer les outliers basés sur les écarts interquartiles (IQR)\n",
    "def remove_outliers_iqr(df, column):\n",
    "    q1 = df[column].quantile(0.25)\n",
    "    q3 = df[column].quantile(0.75)\n",
    "    iqr = q3 - q1\n",
    "    lower_threshold = q1 - 1.5 * iqr\n",
    "    upper_threshold = q3 + 1.5 * iqr\n",
    "    return df[(df[column] >= lower_threshold) & (df[column] <= upper_threshold)]\n",
    "\n",
    "for column in numerical_cols:\n",
    "    df = remove_outliers_iqr(df, column)\n"
   ]
  },
  {
   "cell_type": "code",
   "execution_count": 73,
   "id": "24985d29",
   "metadata": {},
   "outputs": [
    {
     "data": {
      "text/plain": [
       "(58060, 20)"
      ]
     },
     "execution_count": 73,
     "metadata": {},
     "output_type": "execute_result"
    }
   ],
   "source": [
    "df.shape"
   ]
  },
  {
   "cell_type": "code",
   "execution_count": 74,
   "id": "7ec70600",
   "metadata": {},
   "outputs": [
    {
     "data": {
      "image/png": "[encoded data removed]",
      "text/plain": [
       "<Figure size 1200x1800 with 9 Axes>"
      ]
     },
     "metadata": {},
     "output_type": "display_data"
    }
   ],
   "source": [
    "# Calculer le nombre de lignes nécessaires\n",
    "num_rows = math.ceil(len(numerical_cols) / 3)\n",
    "\n",
    "# Créer une figure et un ensemble d'axes\n",
    "fig, axes = plt.subplots(nrows=num_rows, ncols=3, figsize=(12, 6*num_rows))\n",
    "\n",
    "# Tracer les boxplots pour chaque variable\n",
    "for i, col in enumerate(numerical_cols):\n",
    "    row = i // 3\n",
    "    col = i % 3\n",
    "    axes[row, col].boxplot(df[numerical_cols[i]].values, vert=False)\n",
    "    axes[row, col].set_title(col)\n",
    "    axes[row, col].set_xlabel(\"Valeurs\")\n",
    "\n",
    "# Ajuster l'espacement entre les sous-graphiques\n",
    "plt.tight_layout()\n",
    "\n",
    "# Afficher le graphique\n",
    "plt.show()"
   ]
  },
  {
   "cell_type": "markdown",
   "id": "7abeec97",
   "metadata": {},
   "source": [
    "Certains outliers persistent, nous allons ajuster le seuil de chaque variable afin d'en éliminer le maximum"
   ]
  },
  {
   "cell_type": "code",
   "execution_count": 75,
   "id": "909723c0",
   "metadata": {},
   "outputs": [],
   "source": [
    "\n",
    "thresholds = {\n",
    "    'price': 1.5,\n",
    "    'freight_value': 1.5,\n",
    "    'payment_sequential': 1.5,\n",
    "    'payment_value': 1.5,\n",
    "    'seller_zip_code_prefix': 1.5\n",
    "}\n",
    "\n",
    "# Fonction pour supprimer les outliers\n",
    "def remove_outliers_iqr(df, column, threshold):\n",
    "    q1 = df[column].quantile(0.25)\n",
    "    q3 = df[column].quantile(0.75)\n",
    "    iqr = q3 - q1\n",
    "    lower_threshold = q1 - threshold * iqr\n",
    "    upper_threshold = q3 + threshold * iqr\n",
    "    return df[(df[column] >= lower_threshold) & (df[column] <= upper_threshold)]\n",
    "\n",
    "# Supprimer les outliers pour chaque variable\n",
    "for column in numerical_cols:\n",
    "    if column in thresholds:\n",
    "        threshold = thresholds[column]\n",
    "        df = remove_outliers_iqr(df, column, threshold)\n"
   ]
  },
  {
   "cell_type": "code",
   "execution_count": 76,
   "id": "08f87536",
   "metadata": {},
   "outputs": [
    {
     "data": {
      "text/plain": [
       "(49332, 20)"
      ]
     },
     "execution_count": 76,
     "metadata": {},
     "output_type": "execute_result"
    }
   ],
   "source": [
    "df.shape"
   ]
  },
  {
   "cell_type": "code",
   "execution_count": 77,
   "id": "e053dda6",
   "metadata": {},
   "outputs": [
    {
     "data": {
      "text/plain": [
       "array([ 1,  2,  3,  4,  5,  6,  9,  8,  7, 12, 11], dtype=int64)"
      ]
     },
     "execution_count": 77,
     "metadata": {},
     "output_type": "execute_result"
    }
   ],
   "source": [
    "# Compter le nombre de commandes par client\n",
    "customer_order_counts = df.groupby(\"customer_unique_id\")[\"order_id\"].count()\n",
    "customer_order_counts.unique()"
   ]
  },
  {
   "cell_type": "code",
   "execution_count": 78,
   "id": "12fe4ea7",
   "metadata": {},
   "outputs": [],
   "source": [
    "df[\"customer_order_counts\"] = df[\"customer_unique_id\"].map(customer_order_counts)"
   ]
  },
  {
   "cell_type": "code",
   "execution_count": 79,
   "id": "65db5e9a",
   "metadata": {
    "scrolled": true
   },
   "outputs": [
    {
     "data": {
      "text/html": [
       "<div>\n",
       "<style scoped>\n",
       "    .dataframe tbody tr th:only-of-type {\n",
       "        vertical-align: middle;\n",
       "    }\n",
       "\n",
       "    .dataframe tbody tr th {\n",
       "        vertical-align: top;\n",
       "    }\n",
       "\n",
       "    .dataframe thead th {\n",
       "        text-align: right;\n",
       "    }\n",
       "</style>\n",
       "<table border=\"1\" class=\"dataframe\">\n",
       "  <thead>\n",
       "    <tr style=\"text-align: right;\">\n",
       "      <th></th>\n",
       "      <th>customer_id</th>\n",
       "      <th>customer_unique_id</th>\n",
       "      <th>customer_zip_code_prefix</th>\n",
       "      <th>customer_city</th>\n",
       "      <th>customer_state</th>\n",
       "      <th>order_id</th>\n",
       "      <th>order_purchase_timestamp</th>\n",
       "      <th>product_id</th>\n",
       "      <th>seller_id</th>\n",
       "      <th>price</th>\n",
       "      <th>...</th>\n",
       "      <th>payment_sequential</th>\n",
       "      <th>payment_type</th>\n",
       "      <th>payment_installments</th>\n",
       "      <th>payment_value</th>\n",
       "      <th>review_score</th>\n",
       "      <th>product_category_name</th>\n",
       "      <th>product_photos_qty</th>\n",
       "      <th>seller_zip_code_prefix</th>\n",
       "      <th>seller_state</th>\n",
       "      <th>customer_order_counts</th>\n",
       "    </tr>\n",
       "  </thead>\n",
       "  <tbody>\n",
       "    <tr>\n",
       "      <th>0</th>\n",
       "      <td>06b8999e2fba1a1fbc88172c00ba8bc7</td>\n",
       "      <td>861eff4711a542e4b93843c6dd7febb0</td>\n",
       "      <td>14409</td>\n",
       "      <td>franca</td>\n",
       "      <td>SP</td>\n",
       "      <td>00e7ee1b050b8499577073aeb2a297a1</td>\n",
       "      <td>2017-05-16 15:05:35</td>\n",
       "      <td>a9516a079e37a9c9c36b9b78b10169e8</td>\n",
       "      <td>7c67e1448b00f6e969d365cea6b010ab</td>\n",
       "      <td>124.99</td>\n",
       "      <td>...</td>\n",
       "      <td>1.0</td>\n",
       "      <td>credit_card</td>\n",
       "      <td>2.0</td>\n",
       "      <td>146.87</td>\n",
       "      <td>4</td>\n",
       "      <td>moveis_escritorio</td>\n",
       "      <td>1.0</td>\n",
       "      <td>8577</td>\n",
       "      <td>SP</td>\n",
       "      <td>1</td>\n",
       "    </tr>\n",
       "    <tr>\n",
       "      <th>1</th>\n",
       "      <td>4e7b3e00288586ebd08712fdd0374a03</td>\n",
       "      <td>060e732b5b29e8181a18229c7b0b2b5e</td>\n",
       "      <td>1151</td>\n",
       "      <td>sao paulo</td>\n",
       "      <td>SP</td>\n",
       "      <td>b2059ed67ce144a36e2aa97d2c9e9ad2</td>\n",
       "      <td>2018-05-19 16:07:45</td>\n",
       "      <td>bd07b66896d6f1494f5b86251848ced7</td>\n",
       "      <td>7c67e1448b00f6e969d365cea6b010ab</td>\n",
       "      <td>139.94</td>\n",
       "      <td>...</td>\n",
       "      <td>1.0</td>\n",
       "      <td>credit_card</td>\n",
       "      <td>7.0</td>\n",
       "      <td>157.73</td>\n",
       "      <td>5</td>\n",
       "      <td>moveis_escritorio</td>\n",
       "      <td>1.0</td>\n",
       "      <td>8577</td>\n",
       "      <td>SP</td>\n",
       "      <td>1</td>\n",
       "    </tr>\n",
       "    <tr>\n",
       "      <th>2</th>\n",
       "      <td>b2b6027bc5c5109e529d4dc6358b12c3</td>\n",
       "      <td>259dac757896d24d7702b9acbbff3f3c</td>\n",
       "      <td>8775</td>\n",
       "      <td>mogi das cruzes</td>\n",
       "      <td>SP</td>\n",
       "      <td>951670f92359f4fe4a63112aa7306eba</td>\n",
       "      <td>2018-03-13 16:06:38</td>\n",
       "      <td>a5647c44af977b148e0a3a4751a09e2e</td>\n",
       "      <td>7c67e1448b00f6e969d365cea6b010ab</td>\n",
       "      <td>149.94</td>\n",
       "      <td>...</td>\n",
       "      <td>1.0</td>\n",
       "      <td>credit_card</td>\n",
       "      <td>1.0</td>\n",
       "      <td>173.30</td>\n",
       "      <td>5</td>\n",
       "      <td>moveis_escritorio</td>\n",
       "      <td>1.0</td>\n",
       "      <td>8577</td>\n",
       "      <td>SP</td>\n",
       "      <td>1</td>\n",
       "    </tr>\n",
       "  </tbody>\n",
       "</table>\n",
       "<p>3 rows × 21 columns</p>\n",
       "</div>"
      ],
      "text/plain": [
       "                        customer_id                customer_unique_id  \\\n",
       "0  06b8999e2fba1a1fbc88172c00ba8bc7  861eff4711a542e4b93843c6dd7febb0   \n",
       "1  4e7b3e00288586ebd08712fdd0374a03  060e732b5b29e8181a18229c7b0b2b5e   \n",
       "2  b2b6027bc5c5109e529d4dc6358b12c3  259dac757896d24d7702b9acbbff3f3c   \n",
       "\n",
       "   customer_zip_code_prefix    customer_city customer_state  \\\n",
       "0                     14409           franca             SP   \n",
       "1                      1151        sao paulo             SP   \n",
       "2                      8775  mogi das cruzes             SP   \n",
       "\n",
       "                           order_id order_purchase_timestamp  \\\n",
       "0  00e7ee1b050b8499577073aeb2a297a1      2017-05-16 15:05:35   \n",
       "1  b2059ed67ce144a36e2aa97d2c9e9ad2      2018-05-19 16:07:45   \n",
       "2  951670f92359f4fe4a63112aa7306eba      2018-03-13 16:06:38   \n",
       "\n",
       "                         product_id                         seller_id   price  \\\n",
       "0  a9516a079e37a9c9c36b9b78b10169e8  7c67e1448b00f6e969d365cea6b010ab  124.99   \n",
       "1  bd07b66896d6f1494f5b86251848ced7  7c67e1448b00f6e969d365cea6b010ab  139.94   \n",
       "2  a5647c44af977b148e0a3a4751a09e2e  7c67e1448b00f6e969d365cea6b010ab  149.94   \n",
       "\n",
       "   ...  payment_sequential  payment_type payment_installments  payment_value  \\\n",
       "0  ...                 1.0   credit_card                  2.0         146.87   \n",
       "1  ...                 1.0   credit_card                  7.0         157.73   \n",
       "2  ...                 1.0   credit_card                  1.0         173.30   \n",
       "\n",
       "   review_score  product_category_name product_photos_qty  \\\n",
       "0             4      moveis_escritorio                1.0   \n",
       "1             5      moveis_escritorio                1.0   \n",
       "2             5      moveis_escritorio                1.0   \n",
       "\n",
       "   seller_zip_code_prefix  seller_state customer_order_counts  \n",
       "0                    8577            SP                     1  \n",
       "1                    8577            SP                     1  \n",
       "2                    8577            SP                     1  \n",
       "\n",
       "[3 rows x 21 columns]"
      ]
     },
     "execution_count": 79,
     "metadata": {},
     "output_type": "execute_result"
    }
   ],
   "source": [
    "df.head(3)"
   ]
  },
  {
   "cell_type": "markdown",
   "id": "d7fa2f62",
   "metadata": {},
   "source": [
    "Nous allons maintenant garder que les client ayant effectué plusieurs commandes"
   ]
  },
  {
   "cell_type": "code",
   "execution_count": 80,
   "id": "ea447932",
   "metadata": {},
   "outputs": [
    {
     "data": {
      "text/plain": [
       "(9259, 21)"
      ]
     },
     "execution_count": 80,
     "metadata": {},
     "output_type": "execute_result"
    }
   ],
   "source": [
    "df_filtered = df.loc[df['customer_order_counts'] > 1]\n",
    "df_filtered.shape"
   ]
  },
  {
   "cell_type": "code",
   "execution_count": 81,
   "id": "be3e7aa4",
   "metadata": {},
   "outputs": [],
   "source": [
    "df_filtered.to_csv('df.csv', index=False)"
   ]
  },
  {
   "cell_type": "code",
   "execution_count": null,
   "id": "b176e92b",
   "metadata": {},
   "outputs": [],
   "source": []
  },
  {
   "cell_type": "code",
   "execution_count": null,
   "id": "8b2b94e4",
   "metadata": {},
   "outputs": [],
   "source": []
  }
 ],
 "metadata": {
  "kernelspec": {
   "display_name": "Python 3 (ipykernel)",
   "language": "python",
   "name": "python3"
  },
  "language_info": {
   "codemirror_mode": {
    "name": "ipython",
    "version": 3
   },
   "file_extension": ".py",
   "mimetype": "text/x-python",
   "name": "python",
   "nbconvert_exporter": "python",
   "pygments_lexer": "ipython3",
   "version": "3.9.13"
  }
 },
 "nbformat": 4,
 "nbformat_minor": 5
}
