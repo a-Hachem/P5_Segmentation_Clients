{
 "cells": [
  {
   "cell_type": "code",
   "execution_count": 1,
   "id": "1dbffd63",
   "metadata": {},
   "outputs": [],
   "source": [
    "import numpy as np\n",
    "import pandas as pd\n",
    "import seaborn as sns\n",
    "import datetime as dt\n",
    "from time import time\n",
    "import warnings"
   ]
  },
  {
   "cell_type": "code",
   "execution_count": 2,
   "id": "675cc344",
   "metadata": {},
   "outputs": [],
   "source": [
    "df=pd.read_csv('df_final.csv')"
   ]
  },
  {
   "cell_type": "code",
   "execution_count": 3,
   "id": "29b76296",
   "metadata": {},
   "outputs": [
    {
     "data": {
      "text/html": [
       "<div>\n",
       "<style scoped>\n",
       "    .dataframe tbody tr th:only-of-type {\n",
       "        vertical-align: middle;\n",
       "    }\n",
       "\n",
       "    .dataframe tbody tr th {\n",
       "        vertical-align: top;\n",
       "    }\n",
       "\n",
       "    .dataframe thead th {\n",
       "        text-align: right;\n",
       "    }\n",
       "</style>\n",
       "<table border=\"1\" class=\"dataframe\">\n",
       "  <thead>\n",
       "    <tr style=\"text-align: right;\">\n",
       "      <th></th>\n",
       "      <th>customer_unique_id</th>\n",
       "      <th>Recency</th>\n",
       "      <th>Frequency</th>\n",
       "      <th>MonetaryValue</th>\n",
       "      <th>Cluster</th>\n",
       "      <th>order_purchase_timestamp</th>\n",
       "      <th>customer_zip_code_prefix</th>\n",
       "      <th>price</th>\n",
       "      <th>review_score</th>\n",
       "      <th>seller_zip_code_prefix</th>\n",
       "    </tr>\n",
       "  </thead>\n",
       "  <tbody>\n",
       "    <tr>\n",
       "      <th>0</th>\n",
       "      <td>000bfa1d2f1a41876493be685390d6d3</td>\n",
       "      <td>335</td>\n",
       "      <td>2</td>\n",
       "      <td>93.70</td>\n",
       "      <td>2</td>\n",
       "      <td>2017-09-29 14:46:58</td>\n",
       "      <td>11095</td>\n",
       "      <td>35.0</td>\n",
       "      <td>5</td>\n",
       "      <td>15013</td>\n",
       "    </tr>\n",
       "    <tr>\n",
       "      <th>1</th>\n",
       "      <td>000bfa1d2f1a41876493be685390d6d3</td>\n",
       "      <td>335</td>\n",
       "      <td>2</td>\n",
       "      <td>93.70</td>\n",
       "      <td>2</td>\n",
       "      <td>2017-09-29 14:46:58</td>\n",
       "      <td>11095</td>\n",
       "      <td>35.0</td>\n",
       "      <td>4</td>\n",
       "      <td>15013</td>\n",
       "    </tr>\n",
       "    <tr>\n",
       "      <th>2</th>\n",
       "      <td>001147e649a7b1afd577e873841632dd</td>\n",
       "      <td>364</td>\n",
       "      <td>2</td>\n",
       "      <td>424.32</td>\n",
       "      <td>0</td>\n",
       "      <td>2017-08-31 17:12:56</td>\n",
       "      <td>87020</td>\n",
       "      <td>85.0</td>\n",
       "      <td>4</td>\n",
       "      <td>4782</td>\n",
       "    </tr>\n",
       "    <tr>\n",
       "      <th>3</th>\n",
       "      <td>001147e649a7b1afd577e873841632dd</td>\n",
       "      <td>364</td>\n",
       "      <td>2</td>\n",
       "      <td>424.32</td>\n",
       "      <td>0</td>\n",
       "      <td>2017-08-31 17:12:56</td>\n",
       "      <td>87020</td>\n",
       "      <td>85.0</td>\n",
       "      <td>4</td>\n",
       "      <td>4782</td>\n",
       "    </tr>\n",
       "    <tr>\n",
       "      <th>4</th>\n",
       "      <td>003e2af81ea3c72fbdd093f07724a4de</td>\n",
       "      <td>136</td>\n",
       "      <td>2</td>\n",
       "      <td>127.48</td>\n",
       "      <td>1</td>\n",
       "      <td>2018-04-16 20:59:52</td>\n",
       "      <td>2420</td>\n",
       "      <td>24.0</td>\n",
       "      <td>4</td>\n",
       "      <td>11450</td>\n",
       "    </tr>\n",
       "  </tbody>\n",
       "</table>\n",
       "</div>"
      ],
      "text/plain": [
       "                 customer_unique_id  Recency  Frequency  MonetaryValue  \\\n",
       "0  000bfa1d2f1a41876493be685390d6d3      335          2          93.70   \n",
       "1  000bfa1d2f1a41876493be685390d6d3      335          2          93.70   \n",
       "2  001147e649a7b1afd577e873841632dd      364          2         424.32   \n",
       "3  001147e649a7b1afd577e873841632dd      364          2         424.32   \n",
       "4  003e2af81ea3c72fbdd093f07724a4de      136          2         127.48   \n",
       "\n",
       "   Cluster order_purchase_timestamp  customer_zip_code_prefix  price  \\\n",
       "0        2      2017-09-29 14:46:58                     11095   35.0   \n",
       "1        2      2017-09-29 14:46:58                     11095   35.0   \n",
       "2        0      2017-08-31 17:12:56                     87020   85.0   \n",
       "3        0      2017-08-31 17:12:56                     87020   85.0   \n",
       "4        1      2018-04-16 20:59:52                      2420   24.0   \n",
       "\n",
       "   review_score  seller_zip_code_prefix  \n",
       "0             5                   15013  \n",
       "1             4                   15013  \n",
       "2             4                    4782  \n",
       "3             4                    4782  \n",
       "4             4                   11450  "
      ]
     },
     "execution_count": 3,
     "metadata": {},
     "output_type": "execute_result"
    }
   ],
   "source": [
    "df.head()"
   ]
  },
  {
   "cell_type": "code",
   "execution_count": 10,
   "id": "7c6bd194",
   "metadata": {},
   "outputs": [],
   "source": [
    "df['order_purchase_timestamp'] = pd.to_datetime(df['order_purchase_timestamp'], format='%Y-%m-%d %H:%M:%S')"
   ]
  },
  {
   "cell_type": "code",
   "execution_count": 11,
   "id": "5a1f232e",
   "metadata": {},
   "outputs": [
    {
     "data": {
      "text/plain": [
       "Index(['Recency', 'Frequency', 'MonetaryValue', 'Cluster',\n",
       "       'customer_zip_code_prefix', 'price', 'review_score',\n",
       "       'seller_zip_code_prefix'],\n",
       "      dtype='object')"
      ]
     },
     "execution_count": 11,
     "metadata": {},
     "output_type": "execute_result"
    }
   ],
   "source": [
    "df_cols=df.drop(['customer_unique_id','order_purchase_timestamp'], axis=1)\n",
    "#numeric_cols.select_dtypes(include=[np.number]).columns\n",
    "df_cols.columns"
   ]
  },
  {
   "cell_type": "code",
   "execution_count": 12,
   "id": "a950ce9b",
   "metadata": {},
   "outputs": [
    {
     "data": {
      "text/plain": [
       "Timestamp('2016-10-04 22:03:46')"
      ]
     },
     "execution_count": 12,
     "metadata": {},
     "output_type": "execute_result"
    }
   ],
   "source": [
    "T_0 = min(df['order_purchase_timestamp']) \n",
    "T_0"
   ]
  },
  {
   "cell_type": "code",
   "execution_count": 13,
   "id": "f61535fb",
   "metadata": {},
   "outputs": [
    {
     "name": "stdout",
     "output_type": "stream",
     "text": [
      "T_1: 2017-04-04 22:03:46\n",
      "T_2: 2017-10-04 22:03:46\n",
      "T_3: 2018-04-04 22:03:46\n",
      "T_4: 2018-10-04 22:03:46\n"
     ]
    }
   ],
   "source": [
    "n_months = 6\n",
    "n_iterations = 4\n",
    "T_n = T_0\n",
    "T_list = []\n",
    "\n",
    "for i in range(n_iterations):\n",
    "    T_n = T_n + pd.DateOffset(months=n_months)\n",
    "    T_list.append(T_n)\n",
    "    print(\"T_{}: {}\".format(i+1, T_n))"
   ]
  },
  {
   "cell_type": "code",
   "execution_count": 14,
   "id": "36962888",
   "metadata": {},
   "outputs": [
    {
     "name": "stdout",
     "output_type": "stream",
     "text": [
      "T_1: 2017-04-04 22:03:46\n",
      "T_2: 2017-10-04 22:03:46\n"
     ]
    }
   ],
   "source": [
    "print(\"T_1:\", T_list[0])\n",
    "print(\"T_2:\", T_list[1])"
   ]
  },
  {
   "cell_type": "code",
   "execution_count": 15,
   "id": "2b87c8f0",
   "metadata": {},
   "outputs": [
    {
     "data": {
      "text/plain": [
       "Index(['Recency', 'Frequency', 'MonetaryValue', 'Cluster',\n",
       "       'customer_zip_code_prefix', 'price', 'review_score',\n",
       "       'seller_zip_code_prefix'],\n",
       "      dtype='object')"
      ]
     },
     "execution_count": 15,
     "metadata": {},
     "output_type": "execute_result"
    }
   ],
   "source": [
    "df_0 = df.loc[(df['order_purchase_timestamp'] >= T_0) & (df['order_purchase_timestamp'] <= T_list[0]), df_cols.columns]\n",
    "df_0.columns"
   ]
  },
  {
   "cell_type": "code",
   "execution_count": 16,
   "id": "60d6668d",
   "metadata": {},
   "outputs": [
    {
     "data": {
      "text/plain": [
       "(511, 8)"
      ]
     },
     "execution_count": 16,
     "metadata": {},
     "output_type": "execute_result"
    }
   ],
   "source": [
    "df_0.shape"
   ]
  },
  {
   "cell_type": "code",
   "execution_count": 17,
   "id": "ad3a654a",
   "metadata": {},
   "outputs": [
    {
     "data": {
      "text/html": [
       "<div>\n",
       "<style scoped>\n",
       "    .dataframe tbody tr th:only-of-type {\n",
       "        vertical-align: middle;\n",
       "    }\n",
       "\n",
       "    .dataframe tbody tr th {\n",
       "        vertical-align: top;\n",
       "    }\n",
       "\n",
       "    .dataframe thead th {\n",
       "        text-align: right;\n",
       "    }\n",
       "</style>\n",
       "<table border=\"1\" class=\"dataframe\">\n",
       "  <thead>\n",
       "    <tr style=\"text-align: right;\">\n",
       "      <th></th>\n",
       "      <th>Recency</th>\n",
       "      <th>Frequency</th>\n",
       "      <th>MonetaryValue</th>\n",
       "      <th>Cluster</th>\n",
       "      <th>customer_zip_code_prefix</th>\n",
       "      <th>price</th>\n",
       "      <th>review_score</th>\n",
       "      <th>seller_zip_code_prefix</th>\n",
       "    </tr>\n",
       "  </thead>\n",
       "  <tbody>\n",
       "    <tr>\n",
       "      <th>8212</th>\n",
       "      <td>535</td>\n",
       "      <td>2</td>\n",
       "      <td>290.02</td>\n",
       "      <td>2</td>\n",
       "      <td>13212</td>\n",
       "      <td>129.0</td>\n",
       "      <td>5</td>\n",
       "      <td>13405</td>\n",
       "    </tr>\n",
       "  </tbody>\n",
       "</table>\n",
       "</div>"
      ],
      "text/plain": [
       "      Recency  Frequency  MonetaryValue  Cluster  customer_zip_code_prefix  \\\n",
       "8212      535          2         290.02        2                     13212   \n",
       "\n",
       "      price  review_score  seller_zip_code_prefix  \n",
       "8212  129.0             5                   13405  "
      ]
     },
     "execution_count": 17,
     "metadata": {},
     "output_type": "execute_result"
    }
   ],
   "source": [
    "df_0.sample()"
   ]
  },
  {
   "cell_type": "code",
   "execution_count": 18,
   "id": "9db1a089",
   "metadata": {},
   "outputs": [
    {
     "data": {
      "text/plain": [
       "Index(['Recency', 'Frequency', 'MonetaryValue', 'Cluster',\n",
       "       'customer_zip_code_prefix', 'price', 'review_score',\n",
       "       'seller_zip_code_prefix'],\n",
       "      dtype='object')"
      ]
     },
     "execution_count": 18,
     "metadata": {},
     "output_type": "execute_result"
    }
   ],
   "source": [
    "df_1 = df.loc[(df['order_purchase_timestamp'] >= T_0) & (df['order_purchase_timestamp'] <= T_list[1]), df_cols.columns]\n",
    "df_1.columns"
   ]
  },
  {
   "cell_type": "code",
   "execution_count": 19,
   "id": "c1562e9d",
   "metadata": {},
   "outputs": [
    {
     "data": {
      "text/plain": [
       "(2759, 8)"
      ]
     },
     "execution_count": 19,
     "metadata": {},
     "output_type": "execute_result"
    }
   ],
   "source": [
    "df_1.shape"
   ]
  },
  {
   "cell_type": "code",
   "execution_count": 20,
   "id": "e20cd8a4",
   "metadata": {},
   "outputs": [
    {
     "data": {
      "text/html": [
       "<div>\n",
       "<style scoped>\n",
       "    .dataframe tbody tr th:only-of-type {\n",
       "        vertical-align: middle;\n",
       "    }\n",
       "\n",
       "    .dataframe tbody tr th {\n",
       "        vertical-align: top;\n",
       "    }\n",
       "\n",
       "    .dataframe thead th {\n",
       "        text-align: right;\n",
       "    }\n",
       "</style>\n",
       "<table border=\"1\" class=\"dataframe\">\n",
       "  <thead>\n",
       "    <tr style=\"text-align: right;\">\n",
       "      <th></th>\n",
       "      <th>Recency</th>\n",
       "      <th>Frequency</th>\n",
       "      <th>MonetaryValue</th>\n",
       "      <th>Cluster</th>\n",
       "      <th>customer_zip_code_prefix</th>\n",
       "      <th>price</th>\n",
       "      <th>review_score</th>\n",
       "      <th>seller_zip_code_prefix</th>\n",
       "    </tr>\n",
       "  </thead>\n",
       "  <tbody>\n",
       "    <tr>\n",
       "      <th>6872</th>\n",
       "      <td>538</td>\n",
       "      <td>2</td>\n",
       "      <td>145.8</td>\n",
       "      <td>1</td>\n",
       "      <td>6440</td>\n",
       "      <td>59.9</td>\n",
       "      <td>5</td>\n",
       "      <td>14940</td>\n",
       "    </tr>\n",
       "    <tr>\n",
       "      <th>696</th>\n",
       "      <td>432</td>\n",
       "      <td>2</td>\n",
       "      <td>236.4</td>\n",
       "      <td>1</td>\n",
       "      <td>8120</td>\n",
       "      <td>50.1</td>\n",
       "      <td>3</td>\n",
       "      <td>14940</td>\n",
       "    </tr>\n",
       "  </tbody>\n",
       "</table>\n",
       "</div>"
      ],
      "text/plain": [
       "      Recency  Frequency  MonetaryValue  Cluster  customer_zip_code_prefix  \\\n",
       "6872      538          2          145.8        1                      6440   \n",
       "696       432          2          236.4        1                      8120   \n",
       "\n",
       "      price  review_score  seller_zip_code_prefix  \n",
       "6872   59.9             5                   14940  \n",
       "696    50.1             3                   14940  "
      ]
     },
     "execution_count": 20,
     "metadata": {},
     "output_type": "execute_result"
    }
   ],
   "source": [
    "df_1.sample(2)"
   ]
  },
  {
   "cell_type": "code",
   "execution_count": 21,
   "id": "fbb458b1",
   "metadata": {},
   "outputs": [
    {
     "data": {
      "text/plain": [
       "(511, 7)"
      ]
     },
     "execution_count": 21,
     "metadata": {},
     "output_type": "execute_result"
    }
   ],
   "source": [
    "X_0 = df_0.drop(['Cluster'], axis=1)\n",
    "X_0.shape"
   ]
  },
  {
   "cell_type": "code",
   "execution_count": 23,
   "id": "e37e933a",
   "metadata": {},
   "outputs": [],
   "source": [
    "from sklearn.preprocessing import FunctionTransformer\n",
    "from sklearn.preprocessing import normalize\n",
    "X_0_log_transformed = np.log1p(X_0)\n",
    "X_0_normal = normalize(X_0_log_transformed)"
   ]
  },
  {
   "cell_type": "code",
   "execution_count": 25,
   "id": "5d6c9949",
   "metadata": {},
   "outputs": [],
   "source": [
    "from sklearn.cluster import KMeans\n",
    "M0 = KMeans(n_clusters=3, random_state=42)\n",
    "M0.fit(X_0_normal)\n",
    "C_0 = M0.predict(X_0_normal)"
   ]
  },
  {
   "cell_type": "code",
   "execution_count": 26,
   "id": "bf551b11",
   "metadata": {},
   "outputs": [
    {
     "data": {
      "text/plain": [
       "(511,)"
      ]
     },
     "execution_count": 26,
     "metadata": {},
     "output_type": "execute_result"
    }
   ],
   "source": [
    "C_0.shape"
   ]
  },
  {
   "cell_type": "code",
   "execution_count": 27,
   "id": "3599d889",
   "metadata": {},
   "outputs": [
    {
     "data": {
      "text/plain": [
       "(2759, 7)"
      ]
     },
     "execution_count": 27,
     "metadata": {},
     "output_type": "execute_result"
    }
   ],
   "source": [
    "X_1 = df_1.drop('Cluster', axis=1)\n",
    "X_1.shape"
   ]
  },
  {
   "cell_type": "code",
   "execution_count": 28,
   "id": "f2d393da",
   "metadata": {},
   "outputs": [],
   "source": [
    "X_1_log_transformed = np.log1p(X_1)\n",
    "X_1_normal = normalize(X_1_log_transformed)"
   ]
  },
  {
   "cell_type": "code",
   "execution_count": 29,
   "id": "73ea7a04",
   "metadata": {},
   "outputs": [],
   "source": [
    "M1 = KMeans(n_clusters=3, random_state=0)\n",
    "M1.fit(X_1_normal)\n",
    "C_1 = M1.predict(X_1_normal)"
   ]
  },
  {
   "cell_type": "code",
   "execution_count": 30,
   "id": "4516b1d9",
   "metadata": {},
   "outputs": [
    {
     "data": {
      "text/plain": [
       "(2759,)"
      ]
     },
     "execution_count": 30,
     "metadata": {},
     "output_type": "execute_result"
    }
   ],
   "source": [
    "C_1.shape"
   ]
  },
  {
   "cell_type": "code",
   "execution_count": 31,
   "id": "b72a4f4c",
   "metadata": {},
   "outputs": [
    {
     "data": {
      "text/plain": [
       "(2759,)"
      ]
     },
     "execution_count": 31,
     "metadata": {},
     "output_type": "execute_result"
    }
   ],
   "source": [
    "C1_init = M0.predict(X_1_normal)\n",
    "C1_init.shape"
   ]
  },
  {
   "cell_type": "code",
   "execution_count": 32,
   "id": "a87d5966",
   "metadata": {},
   "outputs": [],
   "source": [
    "X_0.reset_index(drop=True, inplace=True)\n",
    "X_1.reset_index(drop=True, inplace=True)"
   ]
  },
  {
   "cell_type": "markdown",
   "id": "710ab328",
   "metadata": {},
   "source": [
    "On transfomre C_1 et C1_init en DataFrames puis réorganisons les indices :"
   ]
  },
  {
   "cell_type": "code",
   "execution_count": 34,
   "id": "5412e95d",
   "metadata": {},
   "outputs": [],
   "source": [
    "C1_df = pd.DataFrame({'cluster': C_1})\n",
    "C1_df.reset_index(drop=True, inplace=True)"
   ]
  },
  {
   "cell_type": "code",
   "execution_count": 36,
   "id": "7451f300",
   "metadata": {},
   "outputs": [],
   "source": [
    "C1_init_df = pd.DataFrame({'cluster': C1_init})\n",
    "C1_init_df.reset_index(drop=True, inplace=True)"
   ]
  },
  {
   "cell_type": "markdown",
   "id": "5e60ca84",
   "metadata": {},
   "source": [
    "On détermine les clients communs entre X_0 et X_1"
   ]
  },
  {
   "cell_type": "code",
   "execution_count": 37,
   "id": "e60df21e",
   "metadata": {},
   "outputs": [
    {
     "data": {
      "text/plain": [
       "(511,)"
      ]
     },
     "execution_count": 37,
     "metadata": {},
     "output_type": "execute_result"
    }
   ],
   "source": [
    "clients_T0_T1 = np.array(list(set(X_0.index).intersection(X_1.index)))\n",
    "clients_T0_T1.shape"
   ]
  },
  {
   "cell_type": "markdown",
   "id": "307455dc",
   "metadata": {},
   "source": [
    "On Extrait les clusters des clients communs à T_0 et T_1 et les transformons en numpay"
   ]
  },
  {
   "cell_type": "code",
   "execution_count": 38,
   "id": "a766dd49",
   "metadata": {},
   "outputs": [],
   "source": [
    "C1_init_sorted = C1_init_df.loc[clients_T0_T1, 'cluster'].to_numpy()\n",
    "C1_sorted = C1_df.loc[clients_T0_T1, 'cluster'].to_numpy()"
   ]
  },
  {
   "cell_type": "code",
   "execution_count": 39,
   "id": "78ec2eef",
   "metadata": {},
   "outputs": [
    {
     "name": "stdout",
     "output_type": "stream",
     "text": [
      "Nombre de clients ayant changé de cluster : 353\n"
     ]
    }
   ],
   "source": [
    "# On compare les clusters\n",
    "diff_clusters = sum(C1_init_sorted != C1_sorted)\n",
    "print(f\"Nombre de clients ayant changé de cluster : {diff_clusters}\")"
   ]
  },
  {
   "cell_type": "code",
   "execution_count": 40,
   "id": "46056d43",
   "metadata": {},
   "outputs": [
    {
     "name": "stderr",
     "output_type": "stream",
     "text": [
      "C:\\Users\\Utilisateur\\AppData\\Local\\Temp\\ipykernel_12388\\2914308182.py:5: SettingWithCopyWarning: \n",
      "A value is trying to be set on a copy of a slice from a DataFrame.\n",
      "Try using .loc[row_indexer,col_indexer] = value instead\n",
      "\n",
      "See the caveats in the documentation: https://pandas.pydata.org/pandas-docs/stable/user_guide/indexing.html#returning-a-view-versus-a-copy\n",
      "  X_1_changed['C1'] = C1_sorted\n"
     ]
    },
    {
     "data": {
      "text/html": [
       "<div>\n",
       "<style scoped>\n",
       "    .dataframe tbody tr th:only-of-type {\n",
       "        vertical-align: middle;\n",
       "    }\n",
       "\n",
       "    .dataframe tbody tr th {\n",
       "        vertical-align: top;\n",
       "    }\n",
       "\n",
       "    .dataframe thead th {\n",
       "        text-align: right;\n",
       "    }\n",
       "</style>\n",
       "<table border=\"1\" class=\"dataframe\">\n",
       "  <thead>\n",
       "    <tr style=\"text-align: right;\">\n",
       "      <th></th>\n",
       "      <th>Recency</th>\n",
       "      <th>Frequency</th>\n",
       "      <th>MonetaryValue</th>\n",
       "      <th>customer_zip_code_prefix</th>\n",
       "      <th>price</th>\n",
       "      <th>review_score</th>\n",
       "      <th>seller_zip_code_prefix</th>\n",
       "      <th>C1</th>\n",
       "    </tr>\n",
       "  </thead>\n",
       "  <tbody>\n",
       "    <tr>\n",
       "      <th>0</th>\n",
       "      <td>335</td>\n",
       "      <td>2</td>\n",
       "      <td>93.70</td>\n",
       "      <td>11095</td>\n",
       "      <td>35.0</td>\n",
       "      <td>5</td>\n",
       "      <td>15013</td>\n",
       "      <td>0</td>\n",
       "    </tr>\n",
       "    <tr>\n",
       "      <th>1</th>\n",
       "      <td>335</td>\n",
       "      <td>2</td>\n",
       "      <td>93.70</td>\n",
       "      <td>11095</td>\n",
       "      <td>35.0</td>\n",
       "      <td>4</td>\n",
       "      <td>15013</td>\n",
       "      <td>0</td>\n",
       "    </tr>\n",
       "    <tr>\n",
       "      <th>2</th>\n",
       "      <td>364</td>\n",
       "      <td>2</td>\n",
       "      <td>424.32</td>\n",
       "      <td>87020</td>\n",
       "      <td>85.0</td>\n",
       "      <td>4</td>\n",
       "      <td>4782</td>\n",
       "      <td>2</td>\n",
       "    </tr>\n",
       "    <tr>\n",
       "      <th>3</th>\n",
       "      <td>364</td>\n",
       "      <td>2</td>\n",
       "      <td>424.32</td>\n",
       "      <td>87020</td>\n",
       "      <td>85.0</td>\n",
       "      <td>4</td>\n",
       "      <td>4782</td>\n",
       "      <td>2</td>\n",
       "    </tr>\n",
       "    <tr>\n",
       "      <th>4</th>\n",
       "      <td>527</td>\n",
       "      <td>2</td>\n",
       "      <td>163.56</td>\n",
       "      <td>3178</td>\n",
       "      <td>69.9</td>\n",
       "      <td>5</td>\n",
       "      <td>14940</td>\n",
       "      <td>0</td>\n",
       "    </tr>\n",
       "    <tr>\n",
       "      <th>5</th>\n",
       "      <td>527</td>\n",
       "      <td>2</td>\n",
       "      <td>163.56</td>\n",
       "      <td>3178</td>\n",
       "      <td>69.9</td>\n",
       "      <td>3</td>\n",
       "      <td>14940</td>\n",
       "      <td>0</td>\n",
       "    </tr>\n",
       "  </tbody>\n",
       "</table>\n",
       "</div>"
      ],
      "text/plain": [
       "   Recency  Frequency  MonetaryValue  customer_zip_code_prefix  price  \\\n",
       "0      335          2          93.70                     11095   35.0   \n",
       "1      335          2          93.70                     11095   35.0   \n",
       "2      364          2         424.32                     87020   85.0   \n",
       "3      364          2         424.32                     87020   85.0   \n",
       "4      527          2         163.56                      3178   69.9   \n",
       "5      527          2         163.56                      3178   69.9   \n",
       "\n",
       "   review_score  seller_zip_code_prefix  C1  \n",
       "0             5                   15013   0  \n",
       "1             4                   15013   0  \n",
       "2             4                    4782   2  \n",
       "3             4                    4782   2  \n",
       "4             5                   14940   0  \n",
       "5             3                   14940   0  "
      ]
     },
     "execution_count": 40,
     "metadata": {},
     "output_type": "execute_result"
    }
   ],
   "source": [
    "# Filtrer les données du dataframe X_1 pour ne garder que les données des clients qui ont changé de cluster\n",
    "X_1_changed = X_1[X_1.index.isin(clients_T0_T1)]\n",
    "\n",
    "# Ajouter les numéros de cluster à X_1 pour chaque client\n",
    "X_1_changed['C1'] = C1_sorted\n",
    "\n",
    "# Examiner les données de ces clients\n",
    "X_1_changed.head(6)"
   ]
  },
  {
   "cell_type": "code",
   "execution_count": 41,
   "id": "fbe26a17",
   "metadata": {},
   "outputs": [
    {
     "name": "stdout",
     "output_type": "stream",
     "text": [
      "ARI entre les clusters à T0 et T1 : 0.8112408354280909\n"
     ]
    }
   ],
   "source": [
    "from sklearn.metrics import adjusted_rand_score\n",
    "ari = adjusted_rand_score(C1_init_sorted, C1_sorted)\n",
    "print(f\"ARI entre les clusters à T0 et T1 : {ari}\")"
   ]
  },
  {
   "cell_type": "code",
   "execution_count": 42,
   "id": "2de8912b",
   "metadata": {},
   "outputs": [
    {
     "data": {
      "text/plain": [
       "(6257, 8)"
      ]
     },
     "execution_count": 42,
     "metadata": {},
     "output_type": "execute_result"
    }
   ],
   "source": [
    "df_2 = df.loc[(df['order_purchase_timestamp'] >= T_0) & (df['order_purchase_timestamp'] <= T_list[2]), df_cols.columns]\n",
    "df_2.shape"
   ]
  },
  {
   "cell_type": "code",
   "execution_count": 43,
   "id": "be4c3965",
   "metadata": {},
   "outputs": [
    {
     "data": {
      "text/plain": [
       "(6257, 7)"
      ]
     },
     "execution_count": 43,
     "metadata": {},
     "output_type": "execute_result"
    }
   ],
   "source": [
    "X_2 = df_2.drop('Cluster', axis=1)\n",
    "X_2.shape"
   ]
  },
  {
   "cell_type": "code",
   "execution_count": 44,
   "id": "bdbde518",
   "metadata": {},
   "outputs": [],
   "source": [
    "X_2_log_transformed = np.log1p(X_2)\n",
    "X_2_normal= normalize(X_2_log_transformed)"
   ]
  },
  {
   "cell_type": "code",
   "execution_count": 45,
   "id": "fd7fd539",
   "metadata": {},
   "outputs": [],
   "source": [
    "M2 = KMeans(n_clusters=3, random_state=42)\n",
    "M2.fit(X_2_normal)\n",
    "C_2 = M2.predict(X_2_normal)"
   ]
  },
  {
   "cell_type": "code",
   "execution_count": 46,
   "id": "e3105a89",
   "metadata": {},
   "outputs": [
    {
     "data": {
      "text/plain": [
       "(6257,)"
      ]
     },
     "execution_count": 46,
     "metadata": {},
     "output_type": "execute_result"
    }
   ],
   "source": [
    "C2_init = M0.predict(X_2_normal)\n",
    "C2_init.shape"
   ]
  },
  {
   "cell_type": "code",
   "execution_count": 47,
   "id": "eebb7c3b",
   "metadata": {},
   "outputs": [],
   "source": [
    "X_2.reset_index(drop=True, inplace=True)\n",
    "C2_df = pd.DataFrame({'cluster': C_2})\n",
    "C2_df.reset_index(drop=True, inplace=True)"
   ]
  },
  {
   "cell_type": "code",
   "execution_count": 48,
   "id": "8f85fe67",
   "metadata": {},
   "outputs": [],
   "source": [
    "C2_init_df = pd.DataFrame({'cluster': C2_init})\n",
    "C2_init_df.reset_index(drop=True, inplace=True)"
   ]
  },
  {
   "cell_type": "code",
   "execution_count": 50,
   "id": "1c65fa6c",
   "metadata": {},
   "outputs": [
    {
     "data": {
      "text/plain": [
       "(511,)"
      ]
     },
     "execution_count": 50,
     "metadata": {},
     "output_type": "execute_result"
    }
   ],
   "source": [
    "#On détermine les clients communs à X_0 et X_2\n",
    "clients_T0_T2 = np.array(list(set(X_0.index).intersection(X_2.index)))\n",
    "clients_T0_T2.shape"
   ]
  },
  {
   "cell_type": "code",
   "execution_count": 51,
   "id": "da7ded9a",
   "metadata": {},
   "outputs": [],
   "source": [
    "# On Extrait les clusters des clients communs à T_1 et T_2 et les transformons en numpay\n",
    "C2_init_sorted = C2_init_df.loc[clients_T0_T2, 'cluster'].to_numpy()\n",
    "C2_sorted = C2_df.loc[clients_T0_T2, 'cluster'].to_numpy()"
   ]
  },
  {
   "cell_type": "code",
   "execution_count": 52,
   "id": "d3865e9f",
   "metadata": {},
   "outputs": [
    {
     "name": "stdout",
     "output_type": "stream",
     "text": [
      "Nombre de clients ayant changé de cluster : 306\n"
     ]
    }
   ],
   "source": [
    "# On compare les clusters\n",
    "diff_clusters = sum(C2_init_sorted != C2_sorted)\n",
    "print(f\"Nombre de clients ayant changé de cluster : {diff_clusters}\")"
   ]
  },
  {
   "cell_type": "code",
   "execution_count": 54,
   "id": "6a6eb2c4",
   "metadata": {},
   "outputs": [
    {
     "name": "stderr",
     "output_type": "stream",
     "text": [
      "C:\\Users\\Utilisateur\\AppData\\Local\\Temp\\ipykernel_12388\\3395187778.py:5: SettingWithCopyWarning: \n",
      "A value is trying to be set on a copy of a slice from a DataFrame.\n",
      "Try using .loc[row_indexer,col_indexer] = value instead\n",
      "\n",
      "See the caveats in the documentation: https://pandas.pydata.org/pandas-docs/stable/user_guide/indexing.html#returning-a-view-versus-a-copy\n",
      "  X_2_changed['C2'] = C2_sorted\n"
     ]
    },
    {
     "data": {
      "text/html": [
       "<div>\n",
       "<style scoped>\n",
       "    .dataframe tbody tr th:only-of-type {\n",
       "        vertical-align: middle;\n",
       "    }\n",
       "\n",
       "    .dataframe tbody tr th {\n",
       "        vertical-align: top;\n",
       "    }\n",
       "\n",
       "    .dataframe thead th {\n",
       "        text-align: right;\n",
       "    }\n",
       "</style>\n",
       "<table border=\"1\" class=\"dataframe\">\n",
       "  <thead>\n",
       "    <tr style=\"text-align: right;\">\n",
       "      <th></th>\n",
       "      <th>Recency</th>\n",
       "      <th>Frequency</th>\n",
       "      <th>MonetaryValue</th>\n",
       "      <th>customer_zip_code_prefix</th>\n",
       "      <th>price</th>\n",
       "      <th>review_score</th>\n",
       "      <th>seller_zip_code_prefix</th>\n",
       "      <th>C2</th>\n",
       "    </tr>\n",
       "  </thead>\n",
       "  <tbody>\n",
       "    <tr>\n",
       "      <th>0</th>\n",
       "      <td>335</td>\n",
       "      <td>2</td>\n",
       "      <td>93.70</td>\n",
       "      <td>11095</td>\n",
       "      <td>35.00</td>\n",
       "      <td>5</td>\n",
       "      <td>15013</td>\n",
       "      <td>1</td>\n",
       "    </tr>\n",
       "    <tr>\n",
       "      <th>1</th>\n",
       "      <td>335</td>\n",
       "      <td>2</td>\n",
       "      <td>93.70</td>\n",
       "      <td>11095</td>\n",
       "      <td>35.00</td>\n",
       "      <td>4</td>\n",
       "      <td>15013</td>\n",
       "      <td>1</td>\n",
       "    </tr>\n",
       "    <tr>\n",
       "      <th>2</th>\n",
       "      <td>364</td>\n",
       "      <td>2</td>\n",
       "      <td>424.32</td>\n",
       "      <td>87020</td>\n",
       "      <td>85.00</td>\n",
       "      <td>4</td>\n",
       "      <td>4782</td>\n",
       "      <td>2</td>\n",
       "    </tr>\n",
       "    <tr>\n",
       "      <th>3</th>\n",
       "      <td>364</td>\n",
       "      <td>2</td>\n",
       "      <td>424.32</td>\n",
       "      <td>87020</td>\n",
       "      <td>85.00</td>\n",
       "      <td>4</td>\n",
       "      <td>4782</td>\n",
       "      <td>2</td>\n",
       "    </tr>\n",
       "    <tr>\n",
       "      <th>4</th>\n",
       "      <td>233</td>\n",
       "      <td>2</td>\n",
       "      <td>297.52</td>\n",
       "      <td>63560</td>\n",
       "      <td>47.49</td>\n",
       "      <td>5</td>\n",
       "      <td>11701</td>\n",
       "      <td>2</td>\n",
       "    </tr>\n",
       "  </tbody>\n",
       "</table>\n",
       "</div>"
      ],
      "text/plain": [
       "   Recency  Frequency  MonetaryValue  customer_zip_code_prefix  price  \\\n",
       "0      335          2          93.70                     11095  35.00   \n",
       "1      335          2          93.70                     11095  35.00   \n",
       "2      364          2         424.32                     87020  85.00   \n",
       "3      364          2         424.32                     87020  85.00   \n",
       "4      233          2         297.52                     63560  47.49   \n",
       "\n",
       "   review_score  seller_zip_code_prefix  C2  \n",
       "0             5                   15013   1  \n",
       "1             4                   15013   1  \n",
       "2             4                    4782   2  \n",
       "3             4                    4782   2  \n",
       "4             5                   11701   2  "
      ]
     },
     "execution_count": 54,
     "metadata": {},
     "output_type": "execute_result"
    }
   ],
   "source": [
    "# Filtrer les données du dataframe X_1 pour ne garder que les données des clients qui ont changé de cluster\n",
    "X_2_changed = X_2[X_2.index.isin(clients_T0_T2)]\n",
    "\n",
    "# Ajouter les numéros de cluster à X_1 pour chaque client\n",
    "X_2_changed['C2'] = C2_sorted\n",
    "\n",
    "# Examiner les données de ces clients\n",
    "X_2_changed.head()"
   ]
  },
  {
   "cell_type": "code",
   "execution_count": 55,
   "id": "d0e078de",
   "metadata": {},
   "outputs": [
    {
     "name": "stdout",
     "output_type": "stream",
     "text": [
      "ARI entre les clusters à T0 et T2 : 0.4498495976423019\n"
     ]
    }
   ],
   "source": [
    "ari = adjusted_rand_score(C2_init_sorted, C2_sorted)\n",
    "print(f\"ARI entre les clusters à T0 et T2 : {ari}\")"
   ]
  },
  {
   "cell_type": "markdown",
   "id": "760dddbe",
   "metadata": {},
   "source": [
    "Conclusion : la maintenance doit être faite tous les six mois."
   ]
  }
 ],
 "metadata": {
  "kernelspec": {
   "display_name": "Python 3 (ipykernel)",
   "language": "python",
   "name": "python3"
  },
  "language_info": {
   "codemirror_mode": {
    "name": "ipython",
    "version": 3
   },
   "file_extension": ".py",
   "mimetype": "text/x-python",
   "name": "python",
   "nbconvert_exporter": "python",
   "pygments_lexer": "ipython3",
   "version": "3.9.13"
  }
 },
 "nbformat": 4,
 "nbformat_minor": 5
}
